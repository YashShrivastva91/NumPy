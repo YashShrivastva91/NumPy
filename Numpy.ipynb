{
 "cells": [
  {
   "cell_type": "code",
   "execution_count": 1,
   "id": "25aaa6a8-f5d8-4c35-9d2e-8ce4f3b007e5",
   "metadata": {},
   "outputs": [
    {
     "name": "stdout",
     "output_type": "stream",
     "text": [
      "Array: [0 1 2 3 4 5]\n",
      "Data type: int64\n"
     ]
    }
   ],
   "source": [
    "# Q.1 -- Create a Numpy 'arr' of integers from 0 to 5 and print its data type.\n",
    "# Ans -- \n",
    "import numpy as np\n",
    "\n",
    "# Create the NumPy array\n",
    "arr = np.arange(6)\n",
    "\n",
    "# Print the array and its data type\n",
    "print(\"Array:\", arr)\n",
    "print(\"Data type:\", arr.dtype)\n"
   ]
  },
  {
   "cell_type": "code",
   "execution_count": 2,
   "id": "ebbf888a-0c6d-4c05-b1ec-dc5c32158017",
   "metadata": {},
   "outputs": [
    {
     "name": "stdout",
     "output_type": "stream",
     "text": [
      "Is the data type float64? True\n"
     ]
    }
   ],
   "source": [
    "# Q.2 -- Given a Numpy array 'arr' check if its data type is float64.\n",
    "#   arr = np.array([1.5, 2.6, 3.7])\n",
    "# Ans -- \n",
    "import numpy as np\n",
    "\n",
    "# Create the NumPy array\n",
    "arr = np.array([1.5, 2.6, 3.7])\n",
    "\n",
    "# Check if the data type is float64\n",
    "is_float64 = arr.dtype == np.float64\n",
    "\n",
    "# Print the result\n",
    "print(\"Is the data type float64?\", is_float64)\n"
   ]
  },
  {
   "cell_type": "code",
   "execution_count": 3,
   "id": "f122900b-cae8-4e7a-8b3b-c36a74883af1",
   "metadata": {},
   "outputs": [
    {
     "name": "stdout",
     "output_type": "stream",
     "text": [
      "Array: [1.+2.j 3.+4.j 5.+6.j]\n",
      "Data type: complex128\n"
     ]
    }
   ],
   "source": [
    "# Q.3 -- Create a Numpy array 'arr' with a data type of somplex128 containing three complex numbers.\n",
    "# Ans -- \n",
    "import numpy as np\n",
    "\n",
    "# Create the NumPy array with complex128 data type\n",
    "arr = np.array([1+2j, 3+4j, 5+6j], dtype=np.complex128)\n",
    "\n",
    "# Print the array and its data type\n",
    "print(\"Array:\", arr)\n",
    "print(\"Data type:\", arr.dtype)\n"
   ]
  },
  {
   "cell_type": "code",
   "execution_count": 4,
   "id": "9ade6ffd-e461-42ec-8738-bf0aeaaa21ca",
   "metadata": {},
   "outputs": [
    {
     "name": "stdout",
     "output_type": "stream",
     "text": [
      "Converted Array: [1. 2. 3. 4. 5.]\n",
      "Data type: float32\n"
     ]
    }
   ],
   "source": [
    "# Q.4 -- Convert an  existing Numpy array 'arr' of integers to float32 data type.\n",
    "# Ans --\n",
    "import numpy as np\n",
    "\n",
    "# Example existing array of integers\n",
    "arr = np.array([1, 2, 3, 4, 5])\n",
    "\n",
    "# Convert the array to float32\n",
    "arr_float32 = arr.astype(np.float32)\n",
    "\n",
    "# Print the converted array and its data type\n",
    "print(\"Converted Array:\", arr_float32)\n",
    "print(\"Data type:\", arr_float32.dtype)\n"
   ]
  },
  {
   "cell_type": "code",
   "execution_count": 5,
   "id": "0cf41b6e-47cd-4655-a529-f440e2edbf1f",
   "metadata": {},
   "outputs": [
    {
     "name": "stdout",
     "output_type": "stream",
     "text": [
      "Original Array (float64): [1.12345679 2.98765432 3.14159265]\n",
      "Converted Array (float32): [1.1234568 2.9876542 3.1415927]\n",
      "Original Data Type: float64\n",
      "Converted Data Type: float32\n"
     ]
    }
   ],
   "source": [
    "# Q.5 -- Given a Numpy array 'arr' with float64 data type, convert it to float32 to reduce decimal numbers.\n",
    "# Ans -- \n",
    "import numpy as np\n",
    "\n",
    "# Example existing array with float64 data type\n",
    "arr = np.array([1.123456789, 2.987654321, 3.141592653], dtype=np.float64)\n",
    "\n",
    "# Convert the array to float32\n",
    "arr_float32 = arr.astype(np.float32)\n",
    "\n",
    "# Print the converted array and its data type\n",
    "print(\"Original Array (float64):\", arr)\n",
    "print(\"Converted Array (float32):\", arr_float32)\n",
    "print(\"Original Data Type:\", arr.dtype)\n",
    "print(\"Converted Data Type:\", arr_float32.dtype)\n"
   ]
  },
  {
   "cell_type": "code",
   "execution_count": 6,
   "id": "7c5eae36-7582-46b5-9c87-5057fe14fd77",
   "metadata": {},
   "outputs": [
    {
     "name": "stdout",
     "output_type": "stream",
     "text": [
      "Shape: (2, 3)\n",
      "Size: 6\n",
      "Data type: float32\n"
     ]
    }
   ],
   "source": [
    "# Q.6 -- Write a function array_attributes that takes a Numpy array as input and returnd its shape, size, and data type.\n",
    "# Ans -- \n",
    "import numpy as np\n",
    "\n",
    "def array_attributes(arr):\n",
    "    \"\"\"\n",
    "    Function to return the shape, size, and data type of a NumPy array.\n",
    "\n",
    "    Parameters:\n",
    "    arr (numpy.ndarray): Input NumPy array.\n",
    "\n",
    "    Returns:\n",
    "    tuple: A tuple containing the shape, size, and data type of the array.\n",
    "    \"\"\"\n",
    "    shape = arr.shape\n",
    "    size = arr.size\n",
    "    dtype = arr.dtype\n",
    "    return shape, size, dtype\n",
    "\n",
    "# Example usage\n",
    "arr = np.array([[1, 2, 3], [4, 5, 6]], dtype=np.float32)\n",
    "shape, size, dtype = array_attributes(arr)\n",
    "\n",
    "print(\"Shape:\", shape)\n",
    "print(\"Size:\", size)\n",
    "print(\"Data type:\", dtype)\n"
   ]
  },
  {
   "cell_type": "code",
   "execution_count": 7,
   "id": "b302773e-9a61-4e02-b211-025daf2cd6cd",
   "metadata": {},
   "outputs": [
    {
     "name": "stdout",
     "output_type": "stream",
     "text": [
      "Dimensionality: 2\n"
     ]
    }
   ],
   "source": [
    "# Q.7 -- Create a function array_dimension that takes a Numpy array as input and returnd its dimensionality.\n",
    "# Ans -- \n",
    "import numpy as np\n",
    "\n",
    "def array_dimension(arr):\n",
    "    \"\"\"\n",
    "    Function to return the dimensionality of a NumPy array.\n",
    "\n",
    "    Parameters:\n",
    "    arr (numpy.ndarray): Input NumPy array.\n",
    "\n",
    "    Returns:\n",
    "    int: The number of dimensions of the array.\n",
    "    \"\"\"\n",
    "    return arr.ndim\n",
    "\n",
    "# Example usage\n",
    "arr = np.array([[1, 2, 3], [4, 5, 6]])\n",
    "dim = array_dimension(arr)\n",
    "\n",
    "print(\"Dimensionality:\", dim)\n"
   ]
  },
  {
   "cell_type": "code",
   "execution_count": 8,
   "id": "11b17d16-17a8-406c-90bb-a6dda43d921b",
   "metadata": {},
   "outputs": [
    {
     "name": "stdout",
     "output_type": "stream",
     "text": [
      "Size of each item (in bytes): 4\n",
      "Total size of the array (in bytes): 24\n"
     ]
    }
   ],
   "source": [
    "# Q.8. -- Design a function item_size_info that takes a Numpy array as input and returns the item size and the total size in bytes.\n",
    "# Ans --\n",
    "import numpy as np\n",
    "\n",
    "def item_size_info(arr):\n",
    "    \"\"\"\n",
    "    Function to return the size of each item and the total size of a NumPy array in bytes.\n",
    "\n",
    "    Parameters:\n",
    "    arr (numpy.ndarray): Input NumPy array.\n",
    "\n",
    "    Returns:\n",
    "    tuple: A tuple containing the size of each item in bytes and the total size of the array in bytes.\n",
    "    \"\"\"\n",
    "    item_size = arr.itemsize\n",
    "    total_size = arr.nbytes\n",
    "    return item_size, total_size\n",
    "\n",
    "# Example usage\n",
    "arr = np.array([[1, 2, 3], [4, 5, 6]], dtype=np.float32)\n",
    "item_size, total_size = item_size_info(arr)\n",
    "\n",
    "print(\"Size of each item (in bytes):\", item_size)\n",
    "print(\"Total size of the array (in bytes):\", total_size)\n"
   ]
  },
  {
   "cell_type": "code",
   "execution_count": 9,
   "id": "8fef29ed-ef1c-4c1b-bca4-4213335642dc",
   "metadata": {},
   "outputs": [
    {
     "name": "stdout",
     "output_type": "stream",
     "text": [
      "Strides of the array (in bytes): (24, 8)\n"
     ]
    }
   ],
   "source": [
    "# Q.9 -- Create a function array_strides that takes a Numpy array as input and returns the strides of the array.\n",
    "# Ans -- \n",
    "import numpy as np\n",
    "\n",
    "def array_strides(arr):\n",
    "    \"\"\"\n",
    "    Function to return the strides of a NumPy array.\n",
    "\n",
    "    Parameters:\n",
    "    arr (numpy.ndarray): Input NumPy array.\n",
    "\n",
    "    Returns:\n",
    "    tuple: A tuple containing the strides of the array in bytes.\n",
    "    \"\"\"\n",
    "    return arr.strides\n",
    "\n",
    "# Example usage\n",
    "arr = np.array([[1, 2, 3], [4, 5, 6]])\n",
    "strides = array_strides(arr)\n",
    "\n",
    "print(\"Strides of the array (in bytes):\", strides)\n"
   ]
  },
  {
   "cell_type": "code",
   "execution_count": 10,
   "id": "996a4506-2336-4a68-b5e0-76974c2156ad",
   "metadata": {},
   "outputs": [
    {
     "name": "stdout",
     "output_type": "stream",
     "text": [
      "Shape of the array: (2, 3)\n",
      "Strides of the array (in bytes): (24, 8)\n"
     ]
    }
   ],
   "source": [
    "# Q.10 -- Design a function shape_stride_relationship that takes a Numpy array as input and returns the shape and strides of the array.\n",
    "# Ans -- \n",
    "import numpy as np\n",
    "\n",
    "def shape_stride_relationship(arr):\n",
    "    \"\"\"\n",
    "    Function to return the shape and strides of a NumPy array.\n",
    "\n",
    "    Parameters:\n",
    "    arr (numpy.ndarray): Input NumPy array.\n",
    "\n",
    "    Returns:\n",
    "    tuple: A tuple containing two elements:\n",
    "           - The shape of the array.\n",
    "           - The strides of the array.\n",
    "    \"\"\"\n",
    "    shape = arr.shape\n",
    "    strides = arr.strides\n",
    "    return shape, strides\n",
    "\n",
    "# Example usage\n",
    "arr = np.array([[1, 2, 3], [4, 5, 6]])\n",
    "shape, strides = shape_stride_relationship(arr)\n",
    "\n",
    "print(\"Shape of the array:\", shape)\n",
    "print(\"Strides of the array (in bytes):\", strides)\n"
   ]
  },
  {
   "cell_type": "code",
   "execution_count": 11,
   "id": "6084e9b0-5bcd-4aeb-b7e4-1fb9f5cc4de7",
   "metadata": {},
   "outputs": [
    {
     "name": "stdout",
     "output_type": "stream",
     "text": [
      "Array of zeros: [0. 0. 0. 0. 0.]\n"
     ]
    }
   ],
   "source": [
    "# Q.11 -- Create a function 'create_zeros_array' that takes an integer 'n' as input and returns a NumPy array of zeros with 'n' elements.\n",
    "# Ans -- \n",
    "import numpy as np\n",
    "\n",
    "def create_zeros_array(n):\n",
    "    \"\"\"\n",
    "    Function to create a NumPy array of zeros with 'n' elements.\n",
    "\n",
    "    Parameters:\n",
    "    n (int): The number of elements in the array.\n",
    "\n",
    "    Returns:\n",
    "    numpy.ndarray: A NumPy array of zeros with 'n' elements.\n",
    "    \"\"\"\n",
    "    return np.zeros(n)\n",
    "\n",
    "# Example usage\n",
    "n = 5\n",
    "zeros_array = create_zeros_array(n)\n",
    "\n",
    "print(\"Array of zeros:\", zeros_array)\n"
   ]
  },
  {
   "cell_type": "code",
   "execution_count": 12,
   "id": "4faed027-b910-458e-a4bd-934a9cfe9911",
   "metadata": {},
   "outputs": [
    {
     "name": "stdout",
     "output_type": "stream",
     "text": [
      "Matrix of ones:\n",
      "[[1. 1. 1. 1.]\n",
      " [1. 1. 1. 1.]\n",
      " [1. 1. 1. 1.]]\n"
     ]
    }
   ],
   "source": [
    "# Q.12 Write a function 'create_ones_matrix' that takes integer 'rows' and 'cols' as inputs and generates a 2D NumPy array filled with ones of size 'rows x cols'.\n",
    "# Ans -- \n",
    "import numpy as np\n",
    "\n",
    "def create_ones_matrix(rows, cols):\n",
    "    \"\"\"\n",
    "    Function to create a 2D NumPy array filled with ones with the specified number of rows and columns.\n",
    "\n",
    "    Parameters:\n",
    "    rows (int): The number of rows in the matrix.\n",
    "    cols (int): The number of columns in the matrix.\n",
    "\n",
    "    Returns:\n",
    "    numpy.ndarray: A 2D NumPy array of ones with shape (rows, cols).\n",
    "    \"\"\"\n",
    "    return np.ones((rows, cols))\n",
    "\n",
    "# Example usage\n",
    "rows = 3\n",
    "cols = 4\n",
    "ones_matrix = create_ones_matrix(rows, cols)\n",
    "\n",
    "print(\"Matrix of ones:\")\n",
    "print(ones_matrix)\n",
    "\n"
   ]
  },
  {
   "cell_type": "code",
   "execution_count": 13,
   "id": "f75e07e4-ac09-4214-8c9f-544c4c0a5ab6",
   "metadata": {},
   "outputs": [
    {
     "name": "stdout",
     "output_type": "stream",
     "text": [
      "Range array: [1 3 5 7 9]\n"
     ]
    }
   ],
   "source": [
    "# Q.13. Write a function  `generate_range_array` that takes three integers start, stop, and step as arguments and\n",
    "# creates a NumPy array with a range starting from `start`, ending at stop (exclusive), and with the specified `step`.\n",
    "# Ans --\n",
    "import numpy as np\n",
    "\n",
    "def generate_range_array(start, stop, step):\n",
    "    \"\"\"\n",
    "    Function to generate a NumPy array with a range starting from 'start',\n",
    "    ending at 'stop' (exclusive), and with the specified 'step'.\n",
    "\n",
    "    Parameters:\n",
    "    start (int): The starting value of the range.\n",
    "    stop (int): The end value of the range (exclusive).\n",
    "    step (int): The step between values in the range.\n",
    "\n",
    "    Returns:\n",
    "    numpy.ndarray: A NumPy array with the specified range.\n",
    "    \"\"\"\n",
    "    return np.arange(start, stop, step)\n",
    "\n",
    "# Example usage\n",
    "start = 1\n",
    "stop = 10\n",
    "step = 2\n",
    "range_array = generate_range_array(start, stop, step)\n",
    "\n",
    "print(\"Range array:\", range_array)\n"
   ]
  },
  {
   "cell_type": "code",
   "execution_count": 14,
   "id": "daab5032-1b22-4666-b42b-4eb1c0ab731e",
   "metadata": {},
   "outputs": [
    {
     "name": "stdout",
     "output_type": "stream",
     "text": [
      "Linear space array: [0.   0.25 0.5  0.75 1.  ]\n"
     ]
    }
   ],
   "source": [
    "# Q.14 -- Design a function `generate_linear_space` that takes two floats `start`, `stop`, and an integer `num` as arguments and generates a NumPy array with num equally spaced values between `start` and `stop` (inclusive).\n",
    "# Ans -- \n",
    "import numpy as np\n",
    "\n",
    "def generate_linear_space(start, stop, num):\n",
    "    \"\"\"\n",
    "    Function to generate a NumPy array with 'num' equally spaced values between 'start' and 'stop' (inclusive).\n",
    "\n",
    "    Parameters:\n",
    "    start (float): The starting value of the range.\n",
    "    stop (float): The ending value of the range (inclusive).\n",
    "    num (int): The number of equally spaced values to generate.\n",
    "\n",
    "    Returns:\n",
    "    numpy.ndarray: A NumPy array with 'num' equally spaced values between 'start' and 'stop'.\n",
    "    \"\"\"\n",
    "    return np.linspace(start, stop, num)\n",
    "\n",
    "# Example usage\n",
    "start = 0.0\n",
    "stop = 1.0\n",
    "num = 5\n",
    "linear_space_array = generate_linear_space(start, stop, num)\n",
    "\n",
    "print(\"Linear space array:\", linear_space_array)\n"
   ]
  },
  {
   "cell_type": "code",
   "execution_count": 15,
   "id": "9729e6d4-2039-4eec-aeb1-bd1827646251",
   "metadata": {},
   "outputs": [
    {
     "name": "stdout",
     "output_type": "stream",
     "text": [
      "Identity matrix:\n",
      "[[1. 0. 0. 0.]\n",
      " [0. 1. 0. 0.]\n",
      " [0. 0. 1. 0.]\n",
      " [0. 0. 0. 1.]]\n"
     ]
    }
   ],
   "source": [
    "# Q.15. -- Create a function `create_identity_matrix` that takes an integer `n` as input and generates a square identity matrix of size `n x n` using `numpy.eye`.\n",
    "# Ans -- \n",
    "import numpy as np\n",
    "\n",
    "def create_identity_matrix(n):\n",
    "    \"\"\"\n",
    "    Function to generate a square identity matrix of size 'n x n'.\n",
    "\n",
    "    Parameters:\n",
    "    n (int): The size of the identity matrix.\n",
    "\n",
    "    Returns:\n",
    "    numpy.ndarray: A square identity matrix of size 'n x n'.\n",
    "    \"\"\"\n",
    "    return np.eye(n)\n",
    "\n",
    "# Example usage\n",
    "n = 4\n",
    "identity_matrix = create_identity_matrix(n)\n",
    "\n",
    "print(\"Identity matrix:\")\n",
    "print(identity_matrix)\n"
   ]
  },
  {
   "cell_type": "code",
   "execution_count": 16,
   "id": "7a6dc07f-cb24-480e-b668-ebbfbee55b4b",
   "metadata": {},
   "outputs": [
    {
     "name": "stdout",
     "output_type": "stream",
     "text": [
      "NumPy array: [1 2 3 4 5]\n",
      "Data type of NumPy array: int64\n"
     ]
    }
   ],
   "source": [
    "# Q.16 -- Write a function that takes a Python list and converts it into a NumPy array.\n",
    "# Ans -- \n",
    "import numpy as np\n",
    "\n",
    "def list_to_array(py_list):\n",
    "    \"\"\"\n",
    "    Function to convert a Python list into a NumPy array.\n",
    "\n",
    "    Parameters:\n",
    "    py_list (list): The Python list to convert.\n",
    "\n",
    "    Returns:\n",
    "    numpy.ndarray: The converted NumPy array.\n",
    "    \"\"\"\n",
    "    return np.array(py_list)\n",
    "\n",
    "# Example usage\n",
    "py_list = [1, 2, 3, 4, 5]\n",
    "array = list_to_array(py_list)\n",
    "\n",
    "print(\"NumPy array:\", array)\n",
    "print(\"Data type of NumPy array:\", array.dtype)\n"
   ]
  },
  {
   "cell_type": "code",
   "execution_count": 17,
   "id": "accc2274-3177-470d-a904-0ef17bfa2070",
   "metadata": {},
   "outputs": [
    {
     "name": "stdout",
     "output_type": "stream",
     "text": [
      "Original array:\n",
      "[[10  2  3]\n",
      " [ 4  5  6]]\n",
      "View array:\n",
      "[[10  2  3]\n",
      " [ 4  5  6]]\n"
     ]
    }
   ],
   "source": [
    "# Q.17 -- Create a NumPy array and demonstrate the use of `numpy.view` to create a new array object with the same data. \n",
    "# Ans-- \n",
    "import numpy as np\n",
    "\n",
    "# Create a NumPy array\n",
    "original_array = np.array([[1, 2, 3], [4, 5, 6]])\n",
    "\n",
    "# Create a new view of the original array\n",
    "view_array = original_array.view()\n",
    "\n",
    "# Modify the new view array\n",
    "view_array[0, 0] = 10\n",
    "\n",
    "# Print the original and view arrays to demonstrate they share the same data\n",
    "print(\"Original array:\")\n",
    "print(original_array)\n",
    "\n",
    "print(\"View array:\")\n",
    "print(view_array)\n"
   ]
  },
  {
   "cell_type": "code",
   "execution_count": 18,
   "id": "be239f92-1d6c-4ae3-a616-0582700de77c",
   "metadata": {},
   "outputs": [
    {
     "name": "stdout",
     "output_type": "stream",
     "text": [
      "Concatenated along axis 0:\n",
      "[[ 1  2  3]\n",
      " [ 4  5  6]\n",
      " [ 7  8  9]\n",
      " [10 11 12]]\n",
      "Concatenated along axis 1:\n",
      "[[ 1  2  3  7  8  9]\n",
      " [ 4  5  6 10 11 12]]\n"
     ]
    }
   ],
   "source": [
    "# Q.18 -- Write a function that takes two NumPy arrays and concatenates them along a specified axis.\n",
    "# Ans -- \n",
    "import numpy as np\n",
    "\n",
    "def concatenate_arrays(arr1, arr2, axis=0):\n",
    "    \"\"\"\n",
    "    Function to concatenate two NumPy arrays along a specified axis.\n",
    "\n",
    "    Parameters:\n",
    "    arr1 (numpy.ndarray): The first NumPy array.\n",
    "    arr2 (numpy.ndarray): The second NumPy array.\n",
    "    axis (int): The axis along which to concatenate the arrays. Default is 0.\n",
    "\n",
    "    Returns:\n",
    "    numpy.ndarray: The concatenated NumPy array.\n",
    "    \"\"\"\n",
    "    return np.concatenate((arr1, arr2), axis=axis)\n",
    "\n",
    "# Example usage\n",
    "arr1 = np.array([[1, 2, 3], [4, 5, 6]])\n",
    "arr2 = np.array([[7, 8, 9], [10, 11, 12]])\n",
    "\n",
    "# Concatenate along axis 0 (rows)\n",
    "concatenated_axis0 = concatenate_arrays(arr1, arr2, axis=0)\n",
    "\n",
    "# Concatenate along axis 1 (columns)\n",
    "concatenated_axis1 = concatenate_arrays(arr1, arr2, axis=1)\n",
    "\n",
    "print(\"Concatenated along axis 0:\")\n",
    "print(concatenated_axis0)\n",
    "\n",
    "print(\"Concatenated along axis 1:\")\n",
    "print(concatenated_axis1)\n"
   ]
  },
  {
   "cell_type": "code",
   "execution_count": 19,
   "id": "370b3083-66bd-4836-b739-f0268a55d560",
   "metadata": {},
   "outputs": [
    {
     "name": "stdout",
     "output_type": "stream",
     "text": [
      "Concatenated horizontally:\n",
      "[[ 1  2  3  7  8]\n",
      " [ 4  5  6  9 10]]\n"
     ]
    }
   ],
   "source": [
    "# Q.19 -- Create two NumPy arrays with different shapes and concatenate them horizontally using `numpy.concatenate`.\n",
    "# Ans -- \n",
    "import numpy as np\n",
    "\n",
    "# Create two NumPy arrays with compatible shapes for horizontal concatenation\n",
    "arr1 = np.array([[1, 2, 3], [4, 5, 6]])   # Shape (2, 3)\n",
    "arr2 = np.array([[7, 8], [9, 10]])        # Shape (2, 2)\n",
    "\n",
    "# Concatenate arrays horizontally (along axis 1)\n",
    "concatenated_array = np.concatenate((arr1, arr2), axis=1)\n",
    "\n",
    "print(\"Concatenated horizontally:\")\n",
    "print(concatenated_array)\n"
   ]
  },
  {
   "cell_type": "code",
   "execution_count": 20,
   "id": "b2737675-c947-4eb6-903d-7b8b2e6ac6d7",
   "metadata": {},
   "outputs": [
    {
     "name": "stdout",
     "output_type": "stream",
     "text": [
      "Vertically stacked array:\n",
      "[[ 1  2  3]\n",
      " [ 4  5  6]\n",
      " [ 7  8  9]\n",
      " [10 11 12]\n",
      " [13 14 15]]\n"
     ]
    }
   ],
   "source": [
    "# Q.20 -- Write a function that vertically stacks multiple NumPy arrays given as a list. \n",
    "# Ans -- \n",
    "import numpy as np\n",
    "\n",
    "def stack_arrays_vertically(array_list):\n",
    "    \"\"\"\n",
    "    Function to vertically stack multiple NumPy arrays given as a list.\n",
    "\n",
    "    Parameters:\n",
    "    array_list (list of numpy.ndarray): List of NumPy arrays to stack vertically.\n",
    "\n",
    "    Returns:\n",
    "    numpy.ndarray: A single NumPy array resulting from vertical stacking of the input arrays.\n",
    "    \"\"\"\n",
    "    return np.vstack(array_list)\n",
    "\n",
    "# Example usage\n",
    "arr1 = np.array([[1, 2, 3], [4, 5, 6]])\n",
    "arr2 = np.array([[7, 8, 9], [10, 11, 12]])\n",
    "arr3 = np.array([[13, 14, 15]])\n",
    "\n",
    "# List of arrays to stack\n",
    "arrays_to_stack = [arr1, arr2, arr3]\n",
    "\n",
    "# Stack arrays vertically\n",
    "stacked_array = stack_arrays_vertically(arrays_to_stack)\n",
    "\n",
    "print(\"Vertically stacked array:\")\n",
    "print(stacked_array)\n"
   ]
  },
  {
   "cell_type": "code",
   "execution_count": 21,
   "id": "691866b9-3790-4667-8c94-f1cd4dfd38c8",
   "metadata": {},
   "outputs": [
    {
     "name": "stdout",
     "output_type": "stream",
     "text": [
      "Array within range:\n",
      "[ 1  3  5  7  9 11]\n"
     ]
    }
   ],
   "source": [
    "# Q.21 --  Write a Python function using NumPy to create an array of integers within a specified range (inclusive) with a given step size.\n",
    "# Ans -- \n",
    "import numpy as np\n",
    "\n",
    "def create_range_array(start, stop, step):\n",
    "    \"\"\"\n",
    "    Function to create an array of integers within a specified range (inclusive) with a given step size.\n",
    "\n",
    "    Parameters:\n",
    "    start (int): The starting value of the range.\n",
    "    stop (int): The ending value of the range (inclusive).\n",
    "    step (int): The step size between values in the range.\n",
    "\n",
    "    Returns:\n",
    "    numpy.ndarray: A NumPy array of integers within the specified range.\n",
    "    \"\"\"\n",
    "    # Adjust the stop value to be inclusive\n",
    "    adjusted_stop = stop + step\n",
    "    \n",
    "    # Create the array using np.arange\n",
    "    return np.arange(start, adjusted_stop, step)\n",
    "\n",
    "# Example usage\n",
    "start = 1\n",
    "stop = 10\n",
    "step = 2\n",
    "range_array = create_range_array(start, stop, step)\n",
    "\n",
    "print(\"Array within range:\")\n",
    "print(range_array)\n"
   ]
  },
  {
   "cell_type": "code",
   "execution_count": 22,
   "id": "4faacfa2-73c2-4bb4-bd10-1aa511282e63",
   "metadata": {},
   "outputs": [
    {
     "name": "stdout",
     "output_type": "stream",
     "text": [
      "Array of equally spaced values:\n",
      "[0.         0.11111111 0.22222222 0.33333333 0.44444444 0.55555556\n",
      " 0.66666667 0.77777778 0.88888889 1.        ]\n"
     ]
    }
   ],
   "source": [
    "# Q22. -- Write a Python function using NumPy to generate an array of 10 equally spaced values between 0 and 1 (inclusive).\n",
    "# Ans -- \n",
    "import numpy as np\n",
    "\n",
    "def generate_equally_spaced_values(start, stop, num):\n",
    "    \"\"\"\n",
    "    Function to generate an array of equally spaced values between 'start' and 'stop' (inclusive).\n",
    "\n",
    "    Parameters:\n",
    "    start (float): The starting value of the range.\n",
    "    stop (float): The ending value of the range (inclusive).\n",
    "    num (int): The number of equally spaced values to generate.\n",
    "\n",
    "    Returns:\n",
    "    numpy.ndarray: A NumPy array of equally spaced values.\n",
    "    \"\"\"\n",
    "    return np.linspace(start, stop, num)\n",
    "\n",
    "# Example usage\n",
    "start = 0\n",
    "stop = 1\n",
    "num = 10\n",
    "equally_spaced_values = generate_equally_spaced_values(start, stop, num)\n",
    "\n",
    "print(\"Array of equally spaced values:\")\n",
    "print(equally_spaced_values)\n"
   ]
  },
  {
   "cell_type": "code",
   "execution_count": 23,
   "id": "f7a78ff3-1928-4bdc-a13e-d5a858d0d5e4",
   "metadata": {},
   "outputs": [
    {
     "name": "stdout",
     "output_type": "stream",
     "text": [
      "Array of logarithmically spaced values:\n",
      "[   1.            5.62341325   31.6227766   177.827941   1000.        ]\n"
     ]
    }
   ],
   "source": [
    "# Q.23 -- Write a Python function using NumPy to create an array of 5 logarithmically spaced values between 1 and 1000 (inclusive).\n",
    "# Ans -- \n",
    "import numpy as np\n",
    "\n",
    "def create_logarithmically_spaced_values(start, stop, num):\n",
    "    \"\"\"\n",
    "    Function to create an array of logarithmically spaced values between 'start' and 'stop' (inclusive).\n",
    "\n",
    "    Parameters:\n",
    "    start (float): The starting value (exponent of the base 10).\n",
    "    stop (float): The ending value (exponent of the base 10).\n",
    "    num (int): The number of logarithmically spaced values to generate.\n",
    "\n",
    "    Returns:\n",
    "    numpy.ndarray: A NumPy array of logarithmically spaced values.\n",
    "    \"\"\"\n",
    "    return np.logspace(start, stop, num)\n",
    "\n",
    "# Example usage\n",
    "start_exponent = 0  # log10(1)\n",
    "stop_exponent = 3   # log10(1000)\n",
    "num_values = 5\n",
    "\n",
    "logarithmically_spaced_values = create_logarithmically_spaced_values(start_exponent, stop_exponent, num_values)\n",
    "\n",
    "print(\"Array of logarithmically spaced values:\")\n",
    "print(logarithmically_spaced_values)\n"
   ]
  },
  {
   "cell_type": "code",
   "execution_count": 24,
   "id": "58ed4307-7ccd-4d88-84c8-faf9289e0f39",
   "metadata": {},
   "outputs": [
    {
     "name": "stdout",
     "output_type": "stream",
     "text": [
      "DataFrame with random integers:\n",
      "   Column_1  Column_2  Column_3\n",
      "0        97        13        99\n",
      "1        14        29         5\n",
      "2        23        42         3\n",
      "3        91        41        22\n",
      "4        68        67        51\n"
     ]
    }
   ],
   "source": [
    "# Q.24 --  Create a Pandas DataFrame using a NumPy array that contains 5 rows and 3 columns, where the values are random integers between 1 and 100.\n",
    "# Ans -- \n",
    "import numpy as np\n",
    "import pandas as pd\n",
    "\n",
    "def create_dataframe_from_random_array(rows, cols, min_val, max_val):\n",
    "    \"\"\"\n",
    "    Function to create a Pandas DataFrame from a NumPy array with random integers.\n",
    "\n",
    "    Parameters:\n",
    "    rows (int): The number of rows in the DataFrame.\n",
    "    cols (int): The number of columns in the DataFrame.\n",
    "    min_val (int): The minimum value for the random integers.\n",
    "    max_val (int): The maximum value for the random integers.\n",
    "\n",
    "    Returns:\n",
    "    pandas.DataFrame: A DataFrame created from the random integers array.\n",
    "    \"\"\"\n",
    "    # Generate a NumPy array with random integers\n",
    "    random_array = np.random.randint(min_val, max_val + 1, size=(rows, cols))\n",
    "    \n",
    "    # Create a DataFrame from the NumPy array\n",
    "    df = pd.DataFrame(random_array, columns=[f'Column_{i+1}' for i in range(cols)])\n",
    "    \n",
    "    return df\n",
    "\n",
    "# Example usage\n",
    "rows = 5\n",
    "cols = 3\n",
    "min_val = 1\n",
    "max_val = 100\n",
    "\n",
    "df = create_dataframe_from_random_array(rows, cols, min_val, max_val)\n",
    "\n",
    "print(\"DataFrame with random integers:\")\n",
    "print(df)\n"
   ]
  },
  {
   "cell_type": "code",
   "execution_count": 25,
   "id": "4f7a4519-69d0-45f4-bc59-6f73dfcbc7cc",
   "metadata": {},
   "outputs": [
    {
     "name": "stdout",
     "output_type": "stream",
     "text": [
      "Original DataFrame:\n",
      "    A  B  C\n",
      "0  10 -4  7\n",
      "1  -5 -3 -9\n",
      "2   3  6  2\n",
      "3  -1  2  3\n",
      "4   2 -8 -4\n",
      "\n",
      "DataFrame after replacing negative values in column 'A':\n",
      "    A  B  C\n",
      "0  10 -4  7\n",
      "1   0 -3 -9\n",
      "2   3  6  2\n",
      "3   0  2  3\n",
      "4   2 -8 -4\n"
     ]
    }
   ],
   "source": [
    "# Q.25 -- Write a function that takes a Pandas DataFrame and replaces all negative values in a specific column with zeros. Use NumPy operations within the Pandas DataFrame.\n",
    "# Ans -- \n",
    "import pandas as pd\n",
    "import numpy as np\n",
    "\n",
    "def replace_negative_values(df, column_name):\n",
    "    \"\"\"\n",
    "    Function to replace all negative values in a specific column of a Pandas DataFrame with zeros.\n",
    "\n",
    "    Parameters:\n",
    "    df (pandas.DataFrame): The DataFrame containing the data.\n",
    "    column_name (str): The name of the column in which to replace negative values.\n",
    "\n",
    "    Returns:\n",
    "    pandas.DataFrame: The DataFrame with negative values replaced by zeros in the specified column.\n",
    "    \"\"\"\n",
    "    if column_name in df.columns:\n",
    "        # Use NumPy to replace negative values with zeros\n",
    "        df[column_name] = np.where(df[column_name] < 0, 0, df[column_name])\n",
    "    else:\n",
    "        raise ValueError(f\"Column '{column_name}' does not exist in the DataFrame.\")\n",
    "    \n",
    "    return df\n",
    "\n",
    "# Example usage\n",
    "data = {\n",
    "    'A': [10, -5, 3, -1, 2],\n",
    "    'B': [-4, -3, 6, 2, -8],\n",
    "    'C': [7, -9, 2, 3, -4]\n",
    "}\n",
    "df = pd.DataFrame(data)\n",
    "\n",
    "print(\"Original DataFrame:\")\n",
    "print(df)\n",
    "\n",
    "# Replace negative values in column 'A'\n",
    "df_modified = replace_negative_values(df, 'A')\n",
    "\n",
    "print(\"\\nDataFrame after replacing negative values in column 'A':\")\n",
    "print(df_modified)\n"
   ]
  },
  {
   "cell_type": "code",
   "execution_count": 26,
   "id": "2590a13f-e016-4215-92e2-6cd96d4a507a",
   "metadata": {},
   "outputs": [
    {
     "name": "stdout",
     "output_type": "stream",
     "text": [
      "The 3rd element is: 30\n"
     ]
    }
   ],
   "source": [
    "# Q.26 --  Access the 3rd element from the given NumPy array.\n",
    "          # arr = np.array([10, 20, 30, 40, 50])\n",
    "#Ans -- \n",
    "import numpy as np\n",
    "\n",
    "# Given NumPy array\n",
    "arr = np.array([10, 20, 30, 40, 50])\n",
    "\n",
    "# Access the 3rd element (index 2)\n",
    "third_element = arr[2]\n",
    "\n",
    "print(\"The 3rd element is:\", third_element)\n"
   ]
  },
  {
   "cell_type": "code",
   "execution_count": 28,
   "id": "43ec754c-e2cf-48ab-ac7a-d5921c6866e5",
   "metadata": {},
   "outputs": [
    {
     "name": "stdout",
     "output_type": "stream",
     "text": [
      "The element at index (1, 2) is: 6\n"
     ]
    }
   ],
   "source": [
    "# Q.27 -- Retrieve the element at index (1, 2) from the 2D NumPy array.\n",
    "       \n",
    "      # arr_2d = np.array([[1, 2, 3],\n",
    "               #    [4, 5, 6],\n",
    "                #   [7, 8, 9]])            \n",
    "# Ans --\n",
    "import numpy as np\n",
    "\n",
    "# Given 2D NumPy array\n",
    "arr_2d = np.array([[1, 2, 3],\n",
    "                   [4, 5, 6],\n",
    "                   [7, 8, 9]])\n",
    "\n",
    "# Retrieve the element at index (1, 2)\n",
    "element = arr_2d[1, 2]\n",
    "\n",
    "print(\"The element at index (1, 2) is:\", element)\n"
   ]
  },
  {
   "cell_type": "code",
   "execution_count": 30,
   "id": "a92f8b0a-b94f-4ad1-a9ed-555f2464bb34",
   "metadata": {},
   "outputs": [
    {
     "name": "stdout",
     "output_type": "stream",
     "text": [
      "Elements greater than 5 are: [ 8 10  7]\n"
     ]
    }
   ],
   "source": [
    "# Q.28 --  Using boolean indexing, extract elements greater than 5 from the given NumPy array.\n",
    "                   # arr = np.array([3, 8, 2, 10, 5, 7])\n",
    "# Ans -- \n",
    "import numpy as np\n",
    "\n",
    "# Given NumPy array\n",
    "arr = np.array([3, 8, 2, 10, 5, 7])\n",
    "\n",
    "# Create a boolean mask for elements greater than 5\n",
    "boolean_mask = arr > 5\n",
    "\n",
    "# Use the boolean mask to extract elements greater than 5\n",
    "elements_greater_than_5 = arr[boolean_mask]\n",
    "\n",
    "print(\"Elements greater than 5 are:\", elements_greater_than_5)\n"
   ]
  },
  {
   "cell_type": "code",
   "execution_count": 31,
   "id": "8961977a-582d-4d5a-b5b9-d3b28357183f",
   "metadata": {},
   "outputs": [
    {
     "name": "stdout",
     "output_type": "stream",
     "text": [
      "Elements from index 2 to 5 (inclusive) are: [3 4 5 6]\n"
     ]
    }
   ],
   "source": [
    "# Q.29 -- Perform basic slicing to extract elements from index 2 to 5 (inclusive) from the given NumPy array.\n",
    "   # arr = np.array([1, 2, 3, 4, 5, 6, 7, 8, 9])\n",
    "# Ans -- \n",
    "import numpy as np\n",
    "\n",
    "# Given NumPy array\n",
    "arr = np.array([1, 2, 3, 4, 5, 6, 7, 8, 9])\n",
    "\n",
    "# Perform basic slicing to extract elements from index 2 to 5 (inclusive)\n",
    "# Note that slicing is end-exclusive, so we need to specify 6 to include index 5\n",
    "sliced_elements = arr[2:6]\n",
    "\n",
    "print(\"Elements from index 2 to 5 (inclusive) are:\", sliced_elements)\n"
   ]
  },
  {
   "cell_type": "code",
   "execution_count": 33,
   "id": "e1d22a79-1f31-4cbf-b89b-908c1cadae32",
   "metadata": {},
   "outputs": [
    {
     "name": "stdout",
     "output_type": "stream",
     "text": [
      "Sub-array [[2, 3], [5, 6]] is:\n",
      "[[2 3]\n",
      " [5 6]]\n"
     ]
    }
   ],
   "source": [
    "# Q30. -- Slice the 2D NumPy array to extract the sub-array `[[2, 3], [5, 6]]` from the given array.\n",
    "                                        # arr_2d = np.array([[1, 2, 3],\n",
    "                                         #                   [4, 5, 6],\n",
    "                                         #                   [7, 8, 9]])\n",
    "# Ans --\n",
    "import numpy as np\n",
    "\n",
    "# Given 2D NumPy array\n",
    "arr_2d = np.array([[1, 2, 3],\n",
    "                   [4, 5, 6],\n",
    "                   [7, 8, 9]])\n",
    "\n",
    "# Correct slicing to extract the sub-array [[2, 3], [5, 6]]\n",
    "sub_array = arr_2d[0:2, 1:3]  # Select rows 0 to 1 and columns 1 to 2\n",
    "\n",
    "print(\"Sub-array [[2, 3], [5, 6]] is:\")\n",
    "print(sub_array)\n",
    "\n"
   ]
  },
  {
   "cell_type": "code",
   "execution_count": 34,
   "id": "c44551ee-d277-4809-a58e-71cc495fc568",
   "metadata": {},
   "outputs": [
    {
     "name": "stdout",
     "output_type": "stream",
     "text": [
      "Extracted elements are: [20 60 70]\n"
     ]
    }
   ],
   "source": [
    "# Q.31 -- .Write a NumPy function to extract elements in specific order from a given 2D array based on indices provided in another array.\n",
    "# Ans --\n",
    "import numpy as np\n",
    "\n",
    "def extract_elements_by_indices(arr_2d, indices):\n",
    "    row_indices, col_indices = indices[:, 0], indices[:, 1]\n",
    "    return arr_2d[row_indices, col_indices]\n",
    "\n",
    "# Given 2D NumPy array\n",
    "arr_2d = np.array([[10, 20, 30],\n",
    "                   [40, 50, 60],\n",
    "                   [70, 80, 90]])\n",
    "\n",
    "# Indices to extract elements\n",
    "indices = np.array([[0, 1], [1, 2], [2, 0]])\n",
    "\n",
    "# Extract elements\n",
    "extracted_elements = extract_elements_by_indices(arr_2d, indices)\n",
    "\n",
    "print(\"Extracted elements are:\", extracted_elements)\n"
   ]
  },
  {
   "cell_type": "code",
   "execution_count": 35,
   "id": "766943b3-9d19-49c3-a55a-8331cbdac926",
   "metadata": {},
   "outputs": [
    {
     "name": "stdout",
     "output_type": "stream",
     "text": [
      "Filtered elements are: [ 8 10 15]\n"
     ]
    }
   ],
   "source": [
    "# Q.32 --  Create a NumPy function that filters elements greater than a threshold from a given 1D array using boolean indexing.\n",
    "# ans -- \n",
    "import numpy as np\n",
    "\n",
    "def filter_elements_greater_than(arr, threshold):\n",
    "    \"\"\"\n",
    "    Filter elements greater than a specified threshold from a 1D NumPy array.\n",
    "\n",
    "    Parameters:\n",
    "    arr (numpy.ndarray): The 1D NumPy array to filter.\n",
    "    threshold (float): The threshold value to compare against.\n",
    "\n",
    "    Returns:\n",
    "    numpy.ndarray: A NumPy array containing elements greater than the threshold.\n",
    "    \"\"\"\n",
    "    # Create a boolean mask where elements are greater than the threshold\n",
    "    boolean_mask = arr > threshold\n",
    "    \n",
    "    # Use the boolean mask to filter the array\n",
    "    filtered_elements = arr[boolean_mask]\n",
    "    \n",
    "    return filtered_elements\n",
    "\n",
    "# Example usage\n",
    "arr = np.array([1, 5, 8, 10, 15, 3])\n",
    "threshold = 7\n",
    "filtered_elements = filter_elements_greater_than(arr, threshold)\n",
    "\n",
    "print(\"Filtered elements are:\", filtered_elements)\n"
   ]
  },
  {
   "cell_type": "code",
   "execution_count": 1,
   "id": "a77237f5-2fd4-4e8f-a6b0-8c21a35b9a2c",
   "metadata": {},
   "outputs": [
    {
     "name": "stdout",
     "output_type": "stream",
     "text": [
      "Original array:\n",
      "[[[ 0  1  2]\n",
      "  [ 3  4  5]\n",
      "  [ 6  7  8]]\n",
      "\n",
      " [[ 9 10 11]\n",
      "  [12 13 14]\n",
      "  [15 16 17]]\n",
      "\n",
      " [[18 19 20]\n",
      "  [21 22 23]\n",
      "  [24 25 26]]]\n",
      "Extracted elements:\n",
      "[ 0 13 26]\n"
     ]
    }
   ],
   "source": [
    "# Q.33 --  Develop a NumPy function that extracts specific elements from a 3D array using indices provided in three separate arrays for each dimension.\n",
    "# Ans \n",
    "import numpy as np\n",
    "\n",
    "def extract_elements(arr, i_indices, j_indices, k_indices):\n",
    "    \"\"\"\n",
    "    Extract specific elements from a 3D NumPy array using indices provided\n",
    "    in three separate arrays for each dimension.\n",
    "\n",
    "    Parameters:\n",
    "    arr (np.ndarray): A 3D NumPy array.\n",
    "    i_indices (np.ndarray): Array of indices for the first dimension.\n",
    "    j_indices (np.ndarray): Array of indices for the second dimension.\n",
    "    k_indices (np.ndarray): Array of indices for the third dimension.\n",
    "\n",
    "    Returns:\n",
    "    np.ndarray: An array of the extracted elements.\n",
    "    \"\"\"\n",
    "    # Ensure indices are NumPy arrays\n",
    "    i_indices = np.asarray(i_indices)\n",
    "    j_indices = np.asarray(j_indices)\n",
    "    k_indices = np.asarray(k_indices)\n",
    "    \n",
    "    # Ensure all indices arrays have the same length\n",
    "    if not (len(i_indices) == len(j_indices) == len(k_indices)):\n",
    "        raise ValueError(\"All index arrays must have the same length.\")\n",
    "\n",
    "    # Extract the elements\n",
    "    return arr[i_indices, j_indices, k_indices]\n",
    "\n",
    "# Example usage:\n",
    "# Create a 3D array\n",
    "arr = np.arange(27).reshape(3, 3, 3)\n",
    "print(\"Original array:\")\n",
    "print(arr)\n",
    "\n",
    "# Define indices\n",
    "i_indices = np.array([0, 1, 2])\n",
    "j_indices = np.array([0, 1, 2])\n",
    "k_indices = np.array([0, 1, 2])\n",
    "\n",
    "# Extract elements\n",
    "extracted_elements = extract_elements(arr, i_indices, j_indices, k_indices)\n",
    "print(\"Extracted elements:\")\n",
    "print(extracted_elements)\n"
   ]
  },
  {
   "cell_type": "code",
   "execution_count": 3,
   "id": "65ca2aa0-98c3-4cf9-a0b4-567f9be215dc",
   "metadata": {},
   "outputs": [
    {
     "name": "stdout",
     "output_type": "stream",
     "text": [
      "Filtered elements:\n",
      "[4 6 8]\n"
     ]
    }
   ],
   "source": [
    "# Q.34 -- Write a NumPy function that returns elements from an array where both two conditions are satisfied using boolean indexing.\n",
    "# Ans -- \n",
    "import numpy as np\n",
    "\n",
    "def filter_elements(arr, condition1, condition2):\n",
    "    \"\"\"\n",
    "    Return elements from a NumPy array where both conditions are satisfied.\n",
    "\n",
    "    Parameters:\n",
    "    arr (np.ndarray): Input NumPy array.\n",
    "    condition1 (np.ndarray): Boolean array representing the first condition.\n",
    "    condition2 (np.ndarray): Boolean array representing the second condition.\n",
    "\n",
    "    Returns:\n",
    "    np.ndarray: Elements from `arr` where both `condition1` and `condition2` are True.\n",
    "    \"\"\"\n",
    "    # Ensure conditions are NumPy arrays\n",
    "    condition1 = np.asarray(condition1)\n",
    "    condition2 = np.asarray(condition2)\n",
    "    \n",
    "    # Ensure conditions have the same shape as the array\n",
    "    if arr.shape != condition1.shape or arr.shape != condition2.shape:\n",
    "        raise ValueError(\"Conditions must have the same shape as the array.\")\n",
    "    \n",
    "    # Combine conditions using logical AND\n",
    "    combined_condition = condition1 & condition2\n",
    "    \n",
    "    # Return elements where the combined condition is True\n",
    "    return arr[combined_condition]\n",
    "\n",
    "# Example usage:\n",
    "# Create a NumPy array\n",
    "arr = np.array([[1, 2, 3], [4, 5, 6], [7, 8, 9]])\n",
    "\n",
    "# Define conditions\n",
    "condition1 = arr > 3         # Elements greater than 3\n",
    "condition2 = arr % 2 == 0    # Elements that are even\n",
    "\n",
    "# Filter elements\n",
    "filtered_elements = filter_elements(arr, condition1, condition2)\n",
    "print(\"Filtered elements:\")\n",
    "print(filtered_elements)\n"
   ]
  },
  {
   "cell_type": "code",
   "execution_count": 4,
   "id": "58437631-5961-45a3-a5a7-e7870d62acbb",
   "metadata": {},
   "outputs": [
    {
     "name": "stdout",
     "output_type": "stream",
     "text": [
      "Extracted elements:\n",
      "[20 40 90]\n"
     ]
    }
   ],
   "source": [
    "# Q.35 -- Create a NumPy function that extracts elements from a 2D array using row and column indices provided in separate arrays.\n",
    "# Ans --\n",
    "import numpy as np\n",
    "\n",
    "def extract_elements_2d(arr, row_indices, col_indices):\n",
    "    \"\"\"\n",
    "    Extract elements from a 2D NumPy array using row and column indices provided in separate arrays.\n",
    "\n",
    "    Parameters:\n",
    "    arr (np.ndarray): A 2D NumPy array.\n",
    "    row_indices (np.ndarray): Array of row indices.\n",
    "    col_indices (np.ndarray): Array of column indices.\n",
    "\n",
    "    Returns:\n",
    "    np.ndarray: An array of the extracted elements.\n",
    "    \"\"\"\n",
    "    # Ensure indices are NumPy arrays\n",
    "    row_indices = np.asarray(row_indices)\n",
    "    col_indices = np.asarray(col_indices)\n",
    "    \n",
    "    # Ensure indices arrays have the same length\n",
    "    if len(row_indices) != len(col_indices):\n",
    "        raise ValueError(\"Row and column indices must have the same length.\")\n",
    "    \n",
    "    # Extract elements\n",
    "    return arr[row_indices, col_indices]\n",
    "\n",
    "# Example usage:\n",
    "# Create a 2D array\n",
    "arr = np.array([[10, 20, 30],\n",
    "                [40, 50, 60],\n",
    "                [70, 80, 90]])\n",
    "\n",
    "# Define row and column indices\n",
    "row_indices = np.array([0, 1, 2])\n",
    "col_indices = np.array([1, 0, 2])\n",
    "\n",
    "# Extract elements\n",
    "extracted_elements = extract_elements_2d(arr, row_indices, col_indices)\n",
    "print(\"Extracted elements:\")\n",
    "print(extracted_elements)\n"
   ]
  },
  {
   "cell_type": "code",
   "execution_count": 5,
   "id": "670ec0d1-a95d-4ae8-a1e2-ccab99bf3546",
   "metadata": {},
   "outputs": [
    {
     "name": "stdout",
     "output_type": "stream",
     "text": [
      "Original array:\n",
      "[[1 2 3]\n",
      " [4 5 6]\n",
      " [7 8 9]]\n",
      "\n",
      "Array after adding scalar value:\n",
      "[[ 6  7  8]\n",
      " [ 9 10 11]\n",
      " [12 13 14]]\n"
     ]
    }
   ],
   "source": [
    "# Q.36 --  Given an array arr of shape (3, 3), add a scalar value of 5 to each element using NumPy broadcasting.\n",
    "# Ans -- \n",
    "import numpy as np\n",
    "\n",
    "# Create a 2D array of shape (3, 3)\n",
    "arr = np.array([[1, 2, 3],\n",
    "                [4, 5, 6],\n",
    "                [7, 8, 9]])\n",
    "\n",
    "# Scalar value to add\n",
    "scalar = 5\n",
    "\n",
    "# Add the scalar value to each element of the array\n",
    "result = arr + scalar\n",
    "\n",
    "print(\"Original array:\")\n",
    "print(arr)\n",
    "print(\"\\nArray after adding scalar value:\")\n",
    "print(result)\n"
   ]
  },
  {
   "cell_type": "code",
   "execution_count": 7,
   "id": "d42d4865-2df7-4465-999b-db364a2f9611",
   "metadata": {},
   "outputs": [
    {
     "name": "stdout",
     "output_type": "stream",
     "text": [
      "arr1:\n",
      "[[2 4 6]]\n",
      "\n",
      "arr2:\n",
      "[[ 1  2  3  4]\n",
      " [ 5  6  7  8]\n",
      " [ 9 10 11 12]]\n",
      "\n",
      "Result after broadcasting multiplication:\n",
      "[[ 2  4  6  8]\n",
      " [20 24 28 32]\n",
      " [54 60 66 72]]\n"
     ]
    }
   ],
   "source": [
    "# Q.37 -- Consider two arrays arr1 of shape (1, 3) and arr2 of shape (3, 4). Multiply each row of arr2 by the corresponding element in arr1 using NumPy broadcasting.\n",
    "# Ans -- \n",
    "import numpy as np\n",
    "\n",
    "# Define the arrays\n",
    "arr1 = np.array([[2, 4, 6]])  # Shape (1, 3)\n",
    "arr2 = np.array([[1, 2, 3, 4],\n",
    "                 [5, 6, 7, 8],\n",
    "                 [9, 10, 11, 12]])  # Shape (3, 4)\n",
    "\n",
    "# To make sure the dimensions align correctly for broadcasting, reshape arr1\n",
    "# to match the dimensions of arr2 for element-wise multiplication.\n",
    "# Here, arr1 is reshaped to (3, 1) to match (3, 4) for broadcasting\n",
    "arr1_broadcasted = np.reshape(arr1, (3, 1))\n",
    "\n",
    "# Multiply each row of arr2 by the corresponding element in arr1\n",
    "result = arr2 * arr1_broadcasted\n",
    "\n",
    "print(\"arr1:\")\n",
    "print(arr1)\n",
    "print(\"\\narr2:\")\n",
    "print(arr2)\n",
    "print(\"\\nResult after broadcasting multiplication:\")\n",
    "print(result)\n"
   ]
  },
  {
   "cell_type": "code",
   "execution_count": 9,
   "id": "0ba29eed-213b-42bf-a27f-68e8a5131c35",
   "metadata": {},
   "outputs": [
    {
     "name": "stdout",
     "output_type": "stream",
     "text": [
      "arr1:\n",
      "[[1 2 3 4]]\n",
      "\n",
      "arr2:\n",
      "[[ 10  20  30]\n",
      " [ 40  50  60]\n",
      " [ 70  80  90]\n",
      " [100 110 120]]\n",
      "\n",
      "Result after broadcasting addition:\n",
      "[[ 11  21  31]\n",
      " [ 42  52  62]\n",
      " [ 73  83  93]\n",
      " [104 114 124]]\n"
     ]
    }
   ],
   "source": [
    "# Q.38 --  Given a 1D array arr1 of shape (1, 4) and a 2D array arr2 of shape (4, 3), add arr1 to each row of arr2 using NumPy broadcasting.\n",
    "# Ans --\n",
    "import numpy as np\n",
    "\n",
    "# Define the arrays\n",
    "arr1 = np.array([[1, 2, 3, 4]])  # Shape (1, 4)\n",
    "arr2 = np.array([[10, 20, 30],\n",
    "                 [40, 50, 60],\n",
    "                 [70, 80, 90],\n",
    "                 [100, 110, 120]])  # Shape (4, 3)\n",
    "\n",
    "# Since arr1 has 4 columns and arr2 has 3 columns,\n",
    "# we need to adjust the shapes for broadcasting.\n",
    "# We can use np.reshape to match the shapes correctly.\n",
    "\n",
    "# Reshape arr1 to (4, 1) so it can be broadcasted to match (4, 3) for addition\n",
    "arr1_broadcasted = np.reshape(arr1, (4, 1))\n",
    "\n",
    "# Add arr1 to each row of arr2\n",
    "result = arr2 + arr1_broadcasted\n",
    "\n",
    "print(\"arr1:\")\n",
    "print(arr1)\n",
    "print(\"\\narr2:\")\n",
    "print(arr2)\n",
    "print(\"\\nResult after broadcasting addition:\")\n",
    "print(result)\n"
   ]
  },
  {
   "cell_type": "code",
   "execution_count": 11,
   "id": "5fd11b4c-5f68-4344-b75e-288a8c2b6466",
   "metadata": {},
   "outputs": [
    {
     "name": "stdout",
     "output_type": "stream",
     "text": [
      "arr1:\n",
      "[[1]\n",
      " [2]\n",
      " [3]]\n",
      "\n",
      "arr2:\n",
      "[[10 20 30]]\n",
      "\n",
      "Result after broadcasting addition:\n",
      "[[11 21 31]\n",
      " [12 22 32]\n",
      " [13 23 33]]\n"
     ]
    }
   ],
   "source": [
    "# Q.39 -- Consider two arrays arr1 of shape (3, 1) and arr2 of shape (1, 3). Add these arrays using NumPy broadcasting.\n",
    "# Ans\n",
    "import numpy as np\n",
    "\n",
    "# Define the arrays\n",
    "arr1 = np.array([[1], [2], [3]])  # Shape (3, 1)\n",
    "arr2 = np.array([[10, 20, 30]])   # Shape (1, 3)\n",
    "\n",
    "# Add the arrays using broadcasting\n",
    "result = arr1 + arr2\n",
    "\n",
    "print(\"arr1:\")\n",
    "print(arr1)\n",
    "print(\"\\narr2:\")\n",
    "print(arr2)\n",
    "print(\"\\nResult after broadcasting addition:\")\n",
    "print(result)\n"
   ]
  },
  {
   "cell_type": "code",
   "execution_count": 12,
   "id": "ca0aad5e-e43a-4073-9134-17cb64bc09b2",
   "metadata": {},
   "outputs": [
    {
     "name": "stdout",
     "output_type": "stream",
     "text": [
      "arr1:\n",
      "[[1 2 3]\n",
      " [4 5 6]]\n",
      "\n",
      "arr2 reshaped:\n",
      "[[[10 20]]\n",
      "\n",
      " [[30 40]]]\n",
      "\n",
      "Result after broadcasting multiplication:\n",
      "[[[ 10  20]\n",
      "  [ 20  40]\n",
      "  [ 30  60]]\n",
      "\n",
      " [[120 160]\n",
      "  [150 200]\n",
      "  [180 240]]]\n"
     ]
    }
   ],
   "source": [
    "# Q.40 -- Given arrays arr1 of shape (2, 3) and arr2 of shape (2, 2), perform multiplication using NumPy broadcasting. Handle the shape incompatibility.\n",
    "# Ans --\n",
    "import numpy as np\n",
    "\n",
    "# Define the arrays\n",
    "arr1 = np.array([[1, 2, 3],\n",
    "                 [4, 5, 6]])  # Shape (2, 3)\n",
    "arr2 = np.array([[10, 20],\n",
    "                 [30, 40]])  # Shape (2, 2)\n",
    "\n",
    "# To perform element-wise multiplication, we need to ensure the shapes are compatible.\n",
    "# We can achieve this by reshaping one of the arrays.\n",
    "\n",
    "# Option 1: Reshape arr2 to align with arr1 for broadcasting\n",
    "# We want arr2 to broadcast across the columns of arr1.\n",
    "# Reshape arr2 to (2, 1, 2) so that it can be broadcasted to (2, 3, 2)\n",
    "\n",
    "# This is a broadcasting-compatible reshape\n",
    "arr2_reshaped = arr2[:, np.newaxis, :]  # Shape (2, 1, 2)\n",
    "\n",
    "# Perform the multiplication\n",
    "result = arr1[:, :, np.newaxis] * arr2_reshaped\n",
    "\n",
    "print(\"arr1:\")\n",
    "print(arr1)\n",
    "print(\"\\narr2 reshaped:\")\n",
    "print(arr2_reshaped)\n",
    "print(\"\\nResult after broadcasting multiplication:\")\n",
    "print(result)\n"
   ]
  },
  {
   "cell_type": "code",
   "execution_count": 13,
   "id": "6b33c6d7-f84d-4d5c-8ede-f697e31a7e51",
   "metadata": {},
   "outputs": [
    {
     "name": "stdout",
     "output_type": "stream",
     "text": [
      "Array:\n",
      "[[1 2 3]\n",
      " [4 5 6]]\n",
      "\n",
      "Column-wise mean:\n",
      "[2.5 3.5 4.5]\n"
     ]
    }
   ],
   "source": [
    "# Q.41 --  Calculate column wise mean for the given array:\n",
    " #      arr = np.array([[1, 2, 3], [4, 5, 6]])\n",
    "# Ans --\n",
    "import numpy as np\n",
    "\n",
    "# Define the array\n",
    "arr = np.array([[1, 2, 3],\n",
    "                [4, 5, 6]])\n",
    "\n",
    "# Calculate column-wise mean\n",
    "column_wise_mean = np.mean(arr, axis=0)\n",
    "\n",
    "print(\"Array:\")\n",
    "print(arr)\n",
    "print(\"\\nColumn-wise mean:\")\n",
    "print(column_wise_mean)\n"
   ]
  },
  {
   "cell_type": "code",
   "execution_count": 14,
   "id": "5d5ef4ec-9f3f-4489-be8f-ec4a61f8520e",
   "metadata": {},
   "outputs": [
    {
     "name": "stdout",
     "output_type": "stream",
     "text": [
      "Array:\n",
      "[[1 2 3]\n",
      " [4 5 6]]\n",
      "\n",
      "Maximum values in each row:\n",
      "[3 6]\n"
     ]
    }
   ],
   "source": [
    "# Q.42 -- Find maximum value in each row of the given array:\n",
    "#          arr = np.array([[1, 2, 3], [4, 5, 6]])\n",
    "# Ans --\n",
    "import numpy as np\n",
    "\n",
    "# Define the array\n",
    "arr = np.array([[1, 2, 3],\n",
    "                [4, 5, 6]])\n",
    "\n",
    "# Find the maximum value in each row\n",
    "max_values = np.max(arr, axis=1)\n",
    "\n",
    "print(\"Array:\")\n",
    "print(arr)\n",
    "print(\"\\nMaximum values in each row:\")\n",
    "print(max_values)\n"
   ]
  },
  {
   "cell_type": "code",
   "execution_count": 15,
   "id": "0bf492dd-a1f3-4377-852a-cd3b68d916a8",
   "metadata": {},
   "outputs": [
    {
     "name": "stdout",
     "output_type": "stream",
     "text": [
      "Array:\n",
      "[[1 2 3]\n",
      " [4 5 6]]\n",
      "\n",
      "Indices of maximum values in each column:\n",
      "[1 1 1]\n"
     ]
    }
   ],
   "source": [
    "# Q.43 --  For the given array, find indices of maximum value in each column.\n",
    "#          arr = np.array([[1, 2, 3], [4, 5, 6]])\n",
    "import numpy as np\n",
    "\n",
    "# Define the array\n",
    "arr = np.array([[1, 2, 3],\n",
    "                [4, 5, 6]])\n",
    "\n",
    "# Find the indices of the maximum value in each column\n",
    "indices_of_max = np.argmax(arr, axis=0)\n",
    "\n",
    "print(\"Array:\")\n",
    "print(arr)\n",
    "print(\"\\nIndices of maximum values in each column:\")\n",
    "print(indices_of_max)\n"
   ]
  },
  {
   "cell_type": "code",
   "execution_count": 1,
   "id": "9b67c080-239a-4921-8486-907f7ef2c1b7",
   "metadata": {},
   "outputs": [
    {
     "name": "stdout",
     "output_type": "stream",
     "text": [
      "[[ 3.  5.]\n",
      " [ 9. 11.]]\n"
     ]
    }
   ],
   "source": [
    "# Q.44 -- For the given array, apply custom function to calculate moving sum along rows.\n",
    "# arr = np.array([[1, 2, 3], [4, 5, 6]])\n",
    "# Ans -- \n",
    "import numpy as np\n",
    "\n",
    "def moving_sum(arr, window_size):\n",
    "    \"\"\"\n",
    "    Calculate the moving sum along rows of a 2D NumPy array.\n",
    "    \n",
    "    Parameters:\n",
    "    arr (np.ndarray): Input 2D array.\n",
    "    window_size (int): Size of the moving window.\n",
    "    \n",
    "    Returns:\n",
    "    np.ndarray: Array of moving sums.\n",
    "    \"\"\"\n",
    "    # Initialize an empty list to store results\n",
    "    result = []\n",
    "    \n",
    "    # Iterate over each row in the array\n",
    "    for row in arr:\n",
    "        # Compute the moving sum for the current row\n",
    "        row_moving_sum = np.convolve(row, np.ones(window_size), mode='valid')\n",
    "        result.append(row_moving_sum)\n",
    "    \n",
    "    # Convert the list of results to a NumPy array\n",
    "    return np.array(result)\n",
    "\n",
    "# Example usage\n",
    "arr = np.array([[1, 2, 3], [4, 5, 6]])\n",
    "window_size = 2  # Define your window size here\n",
    "moving_sums = moving_sum(arr, window_size)\n",
    "\n",
    "print(moving_sums)"
   ]
  },
  {
   "cell_type": "code",
   "execution_count": 2,
   "id": "9aea8400-ea6f-4274-a835-541e87499b67",
   "metadata": {},
   "outputs": [
    {
     "name": "stdout",
     "output_type": "stream",
     "text": [
      "Array:\n",
      "[[2 4 6]\n",
      " [3 5 7]]\n",
      "Even check (True if even, False otherwise):\n",
      "[[ True  True  True]\n",
      " [False False False]]\n",
      "All elements in each column are even:\n",
      "[False False False]\n"
     ]
    }
   ],
   "source": [
    "# Q.45 -- In the given array, check if all elements in each column are even.\n",
    "#  arr = np.array([[2, 4, 6], [3, 5, 7]])\n",
    "# Ans -- \n",
    "import numpy as np\n",
    "\n",
    "# Define the array\n",
    "arr = np.array([[2, 4, 6], [3, 5, 7]])\n",
    "\n",
    "# Check if all elements in the array are even\n",
    "is_even = arr % 2 == 0\n",
    "\n",
    "# Check if all elements in each column are even\n",
    "all_even_in_columns = np.all(is_even, axis=0)\n",
    "\n",
    "print(\"Array:\")\n",
    "print(arr)\n",
    "print(\"Even check (True if even, False otherwise):\")\n",
    "print(is_even)\n",
    "print(\"All elements in each column are even:\")\n",
    "print(all_even_in_columns)\n"
   ]
  },
  {
   "cell_type": "code",
   "execution_count": 3,
   "id": "8e2f4278-7d7a-4f2c-b8d4-e1f4a90ef7e8",
   "metadata": {},
   "outputs": [
    {
     "name": "stdout",
     "output_type": "stream",
     "text": [
      "Original array:\n",
      "[1 2 3 4 5 6]\n",
      "Reshaped matrix:\n",
      "[[1 2 3]\n",
      " [4 5 6]]\n"
     ]
    }
   ],
   "source": [
    "# Q.46 -- Given a NumPy array arr, reshape it into a matrix of dimensions `m` rows and `n` columns. Return the reshaped matrix.\n",
    "# original_array = np.array([1, 2, 3, 4, 5, 6])\n",
    "# Ans --\n",
    "import numpy as np\n",
    "\n",
    "# Define the original array\n",
    "original_array = np.array([1, 2, 3, 4, 5, 6])\n",
    "\n",
    "# Specify dimensions\n",
    "m = 2  # Number of rows\n",
    "n = 3  # Number of columns\n",
    "\n",
    "# Reshape the array\n",
    "reshaped_matrix = original_array.reshape((m, n))\n",
    "\n",
    "print(\"Original array:\")\n",
    "print(original_array)\n",
    "print(\"Reshaped matrix:\")\n",
    "print(reshaped_matrix)\n"
   ]
  },
  {
   "cell_type": "code",
   "execution_count": 4,
   "id": "621396c0-d275-490e-bab8-3f1b6fcf3378",
   "metadata": {},
   "outputs": [
    {
     "name": "stdout",
     "output_type": "stream",
     "text": [
      "Input matrix:\n",
      "[[1 2 3]\n",
      " [4 5 6]]\n",
      "Flattened array:\n",
      "[1 2 3 4 5 6]\n"
     ]
    }
   ],
   "source": [
    "# Q.47 -- Create a function that takes a matrix as input and returns the flattened array.\n",
    "# input_matrix = np.array([[1, 2, 3], [4, 5, 6]])\n",
    "# Ans--\n",
    "import numpy as np\n",
    "\n",
    "def flatten_matrix(matrix):\n",
    "    \"\"\"\n",
    "    Flattens a 2D NumPy array into a 1D NumPy array.\n",
    "    \n",
    "    Parameters:\n",
    "    matrix (np.ndarray): Input 2D array.\n",
    "    \n",
    "    Returns:\n",
    "    np.ndarray: Flattened 1D array.\n",
    "    \"\"\"\n",
    "    return matrix.flatten()\n",
    "\n",
    "# Example usage\n",
    "input_matrix = np.array([[1, 2, 3], [4, 5, 6]])\n",
    "flattened_array = flatten_matrix(input_matrix)\n",
    "\n",
    "print(\"Input matrix:\")\n",
    "print(input_matrix)\n",
    "print(\"Flattened array:\")\n",
    "print(flattened_array)\n"
   ]
  },
  {
   "cell_type": "code",
   "execution_count": 5,
   "id": "2f70fd99-a9ef-46b4-9b51-ce348f2a09f5",
   "metadata": {},
   "outputs": [
    {
     "name": "stdout",
     "output_type": "stream",
     "text": [
      "Concatenated along axis 0:\n",
      "[[1 2]\n",
      " [3 4]\n",
      " [5 6]\n",
      " [7 8]]\n",
      "Concatenated along axis 1:\n",
      "[[1 2 5 6]\n",
      " [3 4 7 8]]\n"
     ]
    }
   ],
   "source": [
    "# Q.48 --  Write a function that concatenates two given arrays along a specified axis.\n",
    "# array1 = np.array([[1, 2], [3, 4]])\n",
    "# array2 = np.array([[5, 6], [7, 8]])\n",
    "# Ans --\n",
    "import numpy as np\n",
    "\n",
    "def concatenate_arrays(array1, array2, axis=0):\n",
    "    \"\"\"\n",
    "    Concatenates two NumPy arrays along a specified axis.\n",
    "    \n",
    "    Parameters:\n",
    "    array1 (np.ndarray): The first input array.\n",
    "    array2 (np.ndarray): The second input array.\n",
    "    axis (int): The axis along which to concatenate. Default is 0.\n",
    "    \n",
    "    Returns:\n",
    "    np.ndarray: The concatenated array.\n",
    "    \"\"\"\n",
    "    return np.concatenate((array1, array2), axis=axis)\n",
    "\n",
    "# Example usage\n",
    "array1 = np.array([[1, 2], [3, 4]])\n",
    "array2 = np.array([[5, 6], [7, 8]])\n",
    "\n",
    "# Concatenate along axis 0 (vertically)\n",
    "concatenated_array_axis0 = concatenate_arrays(array1, array2, axis=0)\n",
    "print(\"Concatenated along axis 0:\")\n",
    "print(concatenated_array_axis0)\n",
    "\n",
    "# Concatenate along axis 1 (horizontally)\n",
    "concatenated_array_axis1 = concatenate_arrays(array1, array2, axis=1)\n",
    "print(\"Concatenated along axis 1:\")\n",
    "print(concatenated_array_axis1)\n"
   ]
  },
  {
   "cell_type": "code",
   "execution_count": 7,
   "id": "5f10e091-3f7f-4db4-83f9-5fcaa7392f3f",
   "metadata": {},
   "outputs": [
    {
     "name": "stdout",
     "output_type": "stream",
     "text": [
      "Split along axis 0:\n",
      "[[1 2 3]]\n",
      "[[4 5 6]]\n",
      "[[7 8 9]]\n",
      "Split along axis 1:\n",
      "[[1 2]\n",
      " [4 5]\n",
      " [7 8]]\n",
      "[[3]\n",
      " [6]\n",
      " [9]]\n",
      "Split along axis 0 with indices:\n",
      "[[1 2 3]]\n",
      "[[4 5 6]]\n",
      "[[7 8 9]]\n"
     ]
    }
   ],
   "source": [
    "# Q49 -- Create a function that splits an array into multiple sub-arrays along a specified axis.\n",
    "# original_array = np.array([[1, 2, 3], [4, 5, 6], [7, 8, 9]])\n",
    "# Ans--\n",
    "import numpy as np\n",
    "\n",
    "def split_array(array, indices_or_sections, axis=0):\n",
    "    \"\"\"\n",
    "    Splits a NumPy array into multiple sub-arrays along a specified axis.\n",
    "    \n",
    "    Parameters:\n",
    "    array (np.ndarray): The input array to be split.\n",
    "    indices_or_sections (int or list of ints): If an integer, it is the number of equal sections to return.\n",
    "        If a list of integers, it represents the indices at which to split the array.\n",
    "    axis (int): The axis along which to split. Default is 0.\n",
    "    \n",
    "    Returns:\n",
    "    list of np.ndarray: The list of sub-arrays resulting from the split.\n",
    "    \"\"\"\n",
    "    return np.array_split(array, indices_or_sections, axis=axis)\n",
    "\n",
    "# Example usage\n",
    "original_array = np.array([[1, 2, 3], [4, 5, 6], [7, 8, 9]])\n",
    "\n",
    "# Split into 3 parts along axis 0\n",
    "split_array_axis0 = split_array(original_array, 3, axis=0)\n",
    "print(\"Split along axis 0:\")\n",
    "for sub_array in split_array_axis0:\n",
    "    print(sub_array)\n",
    "\n",
    "# Split into 2 parts along axis 1\n",
    "split_array_axis1 = split_array(original_array, 2, axis=1)\n",
    "print(\"Split along axis 1:\")\n",
    "for sub_array in split_array_axis1:\n",
    "    print(sub_array)\n",
    "\n",
    "# Split using specific indices along axis 0\n",
    "split_array_axis0_indices = split_array(original_array, [1, 2], axis=0)\n",
    "print(\"Split along axis 0 with indices:\")\n",
    "for sub_array in split_array_axis0_indices:\n",
    "    print(sub_array)\n"
   ]
  },
  {
   "cell_type": "code",
   "execution_count": 8,
   "id": "c3f0d79e-5abe-4732-a27e-4931bd8ec963",
   "metadata": {},
   "outputs": [
    {
     "name": "stdout",
     "output_type": "stream",
     "text": [
      "Original array:\n",
      "[1 2 3 4 5]\n",
      "Modified array:\n",
      "[ 1 11  4 10  5]\n"
     ]
    }
   ],
   "source": [
    "# Q.50 -- Write a function that inserts and then deletes elements from a given array at specified indices.\n",
    "# original_array = np.array([1, 2, 3, 4, 5])\n",
    "# indices_to_insert = [2, 4]\n",
    "# values_to_insert = [10, 11]\n",
    "# indices_to_delete = [1, 3]\n",
    "# Ans -- \n",
    "import numpy as np\n",
    "\n",
    "def modify_array(array, indices_to_insert, values_to_insert, indices_to_delete):\n",
    "    \"\"\"\n",
    "    Inserts and then deletes elements from a NumPy array at specified indices.\n",
    "    \n",
    "    Parameters:\n",
    "    array (np.ndarray): The original array.\n",
    "    indices_to_insert (list of int): The indices at which to insert the values.\n",
    "    values_to_insert (list of int): The values to insert at the specified indices.\n",
    "    indices_to_delete (list of int): The indices of the elements to delete.\n",
    "    \n",
    "    Returns:\n",
    "    np.ndarray: The modified array after insertion and deletion.\n",
    "    \"\"\"\n",
    "    # Step 1: Insert elements\n",
    "    for index, value in zip(sorted(indices_to_insert, reverse=True), values_to_insert):\n",
    "        array = np.insert(array, index, value)\n",
    "    \n",
    "    # Step 2: Delete elements\n",
    "    array = np.delete(array, indices_to_delete)\n",
    "    \n",
    "    return array\n",
    "\n",
    "# Example usage\n",
    "original_array = np.array([1, 2, 3, 4, 5])\n",
    "indices_to_insert = [2, 4]\n",
    "values_to_insert = [10, 11]\n",
    "indices_to_delete = [1, 3]\n",
    "\n",
    "modified_array = modify_array(original_array, indices_to_insert, values_to_insert, indices_to_delete)\n",
    "\n",
    "print(\"Original array:\")\n",
    "print(original_array)\n",
    "print(\"Modified array:\")\n",
    "print(modified_array)\n"
   ]
  },
  {
   "cell_type": "code",
   "execution_count": 9,
   "id": "5e9360f9-a511-48bb-866a-6862d80d4084",
   "metadata": {},
   "outputs": [
    {
     "name": "stdout",
     "output_type": "stream",
     "text": [
      "Array arr1:\n",
      "[[7 5 0 4]\n",
      " [8 2 9 6]\n",
      " [0 8 6 0]]\n",
      "\n",
      "Array arr2:\n",
      "[[1 2 3 4]\n",
      " [1 2 3 4]\n",
      " [1 2 3 4]]\n",
      "\n",
      "Result of element-wise addition:\n",
      "[[ 8  7  3  8]\n",
      " [ 9  4 12 10]\n",
      " [ 1 10  9  4]]\n"
     ]
    }
   ],
   "source": [
    "# Q.51 -- Create a NumPy array `arr1` with random integers and another array `arr2` with integers from 1 to 10.\n",
    "# Perform element-wise addition between `arr1` and `arr2`.\n",
    "# Ans-- \n",
    "import numpy as np\n",
    "\n",
    "# Create arr1 with random integers\n",
    "# Define the shape of arr1\n",
    "shape = (3, 4)  # Example shape (3 rows, 4 columns)\n",
    "arr1 = np.random.randint(low=0, high=10, size=shape)\n",
    "\n",
    "# Create arr2 with integers from 1 to 10\n",
    "arr2 = np.arange(1, 11).reshape((1, 10))\n",
    "\n",
    "# Adjust the shape of arr2 to match arr1 for element-wise addition\n",
    "# In this example, we'll use broadcasting to make arr2 have the same shape as arr1\n",
    "arr2 = np.tile(arr2, (shape[0], 1))[:, :shape[1]]\n",
    "\n",
    "# Perform element-wise addition\n",
    "result = arr1 + arr2\n",
    "\n",
    "# Print the arrays and result\n",
    "print(\"Array arr1:\")\n",
    "print(arr1)\n",
    "print(\"\\nArray arr2:\")\n",
    "print(arr2)\n",
    "print(\"\\nResult of element-wise addition:\")\n",
    "print(result)\n"
   ]
  },
  {
   "cell_type": "code",
   "execution_count": 10,
   "id": "07b11251-3849-4aba-bd8b-d4ae38050aeb",
   "metadata": {},
   "outputs": [
    {
     "name": "stdout",
     "output_type": "stream",
     "text": [
      "Array arr1:\n",
      "[10  9  8  7  6  5  4  3  2  1]\n",
      "\n",
      "Array arr2:\n",
      "[ 1  2  3  4  5  6  7  8  9 10]\n",
      "\n",
      "Result of element-wise subtraction:\n",
      "[ 9  7  5  3  1 -1 -3 -5 -7 -9]\n"
     ]
    }
   ],
   "source": [
    "# Q.52 -- Generate a NumPy array `arr1` with sequential integers from 10 to 1 and another array `arr2` with integers\n",
    "# from 1 to 10. Subtract `arr2` from `arr1` element-wise.\n",
    "# Ans-- \n",
    "import numpy as np\n",
    "\n",
    "# Generate arr1 with sequential integers from 10 to 1\n",
    "arr1 = np.arange(10, 0, -1)  # Starts from 10, ends at 1, with a step of -1\n",
    "\n",
    "# Generate arr2 with integers from 1 to 10\n",
    "arr2 = np.arange(1, 11)  # Starts from 1, ends at 10\n",
    "\n",
    "# Ensure the arrays have the same shape for element-wise operations\n",
    "# If needed, reshape arr1 and arr2 to be compatible\n",
    "# For simplicity, both are 1D arrays of the same length\n",
    "\n",
    "# Perform element-wise subtraction\n",
    "result = arr1 - arr2\n",
    "\n",
    "# Print the arrays and result\n",
    "print(\"Array arr1:\")\n",
    "print(arr1)\n",
    "print(\"\\nArray arr2:\")\n",
    "print(arr2)\n",
    "print(\"\\nResult of element-wise subtraction:\")\n",
    "print(result)\n"
   ]
  },
  {
   "cell_type": "code",
   "execution_count": 11,
   "id": "1d68b1a8-5d89-44ca-8b72-ac4ccb7012f1",
   "metadata": {},
   "outputs": [
    {
     "name": "stdout",
     "output_type": "stream",
     "text": [
      "Array arr1:\n",
      "[[4 1 7 5 7]\n",
      " [6 7 6 5 9]\n",
      " [9 9 2 7 5]]\n",
      "\n",
      "Array arr2:\n",
      "[[1 2 3 4 5]\n",
      " [1 2 3 4 5]\n",
      " [1 2 3 4 5]]\n",
      "\n",
      "Result of element-wise multiplication:\n",
      "[[ 4  2 21 20 35]\n",
      " [ 6 14 18 20 45]\n",
      " [ 9 18  6 28 25]]\n"
     ]
    }
   ],
   "source": [
    "# 53. Create a NumPy array `arr1` with random integers and another array `arr2` with integers from 1 to 5.\n",
    "# Perform element-wise multiplication between `arr1` and `arr2`.\n",
    "# Ans -- \n",
    "import numpy as np\n",
    "\n",
    "# Define the shape of arr1\n",
    "shape = (3, 5)  # Example shape (3 rows, 5 columns)\n",
    "\n",
    "# Generate arr1 with random integers\n",
    "arr1 = np.random.randint(low=1, high=10, size=shape)\n",
    "\n",
    "# Create arr2 with integers from 1 to 5\n",
    "arr2 = np.arange(1, 6)\n",
    "\n",
    "# Adjust the shape of arr2 to match arr1 for element-wise multiplication\n",
    "# Here we use broadcasting to make arr2 have the same shape as arr1\n",
    "arr2 = np.tile(arr2, (shape[0], 1))\n",
    "\n",
    "# Perform element-wise multiplication\n",
    "result = arr1 * arr2\n",
    "\n",
    "# Print the arrays and result\n",
    "print(\"Array arr1:\")\n",
    "print(arr1)\n",
    "print(\"\\nArray arr2:\")\n",
    "print(arr2)\n",
    "print(\"\\nResult of element-wise multiplication:\")\n",
    "print(result)\n"
   ]
  },
  {
   "cell_type": "code",
   "execution_count": 12,
   "id": "7ddecfff-f75a-442c-94d0-1a8e28006164",
   "metadata": {},
   "outputs": [
    {
     "name": "stdout",
     "output_type": "stream",
     "text": [
      "Array arr1:\n",
      "[ 2  4  6  8 10]\n",
      "\n",
      "Array arr2:\n",
      "[1 2 3 4 5]\n",
      "\n",
      "Result of element-wise division:\n",
      "[2. 2. 2. 2. 2.]\n"
     ]
    }
   ],
   "source": [
    "# Q.54 -- Generate a NumPy array `arr1` with even integers from 2 to 10 and another array `arr2` with integers from 1\n",
    "# to 5. Perform element-wise division of `arr1` by `arr2`.\n",
    "# Ans -- \n",
    "import numpy as np\n",
    "\n",
    "# Generate arr1 with even integers from 2 to 10\n",
    "arr1 = np.arange(2, 11, 2)  # This creates an array [2, 4, 6, 8, 10]\n",
    "\n",
    "# Generate arr2 with integers from 1 to 5\n",
    "arr2 = np.arange(1, 6)  # This creates an array [1, 2, 3, 4, 5]\n",
    "\n",
    "# Ensure both arrays have compatible shapes for element-wise operations\n",
    "# In this case, arr1 has 5 elements and arr2 also has 5 elements,\n",
    "# so they can be directly divided element-wise.\n",
    "\n",
    "# Perform element-wise division\n",
    "result = arr1 / arr2\n",
    "\n",
    "# Print the arrays and result\n",
    "print(\"Array arr1:\")\n",
    "print(arr1)\n",
    "print(\"\\nArray arr2:\")\n",
    "print(arr2)\n",
    "print(\"\\nResult of element-wise division:\")\n",
    "print(result)\n"
   ]
  },
  {
   "cell_type": "code",
   "execution_count": 13,
   "id": "e5cf2c19-a720-4f39-b410-568819658fa6",
   "metadata": {},
   "outputs": [
    {
     "name": "stdout",
     "output_type": "stream",
     "text": [
      "Array arr1:\n",
      "[1 2 3 4 5]\n",
      "\n",
      "Array arr2 (reversed):\n",
      "[5 4 3 2 1]\n",
      "\n",
      "Result of element-wise exponentiation:\n",
      "[ 1 16 27 16  5]\n"
     ]
    }
   ],
   "source": [
    "# Q.55. Create a NumPy array `arr1` with integers from 1 to 5 and another array `arr2` with the same numbers\n",
    "# reversed. Calculate the exponentiation of `arr1` raised to the power of `arr2` element-wise.\n",
    "# Ans - \n",
    "import numpy as np\n",
    "\n",
    "# Create arr1 with integers from 1 to 5\n",
    "arr1 = np.arange(1, 6)  # This creates an array [1, 2, 3, 4, 5]\n",
    "\n",
    "# Create arr2 with the same numbers but reversed\n",
    "arr2 = arr1[::-1]  # This reverses arr1 to [5, 4, 3, 2, 1]\n",
    "\n",
    "# Perform element-wise exponentiation\n",
    "result = arr1 ** arr2\n",
    "\n",
    "# Print the arrays and result\n",
    "print(\"Array arr1:\")\n",
    "print(arr1)\n",
    "print(\"\\nArray arr2 (reversed):\")\n",
    "print(arr2)\n",
    "print(\"\\nResult of element-wise exponentiation:\")\n",
    "print(result)\n"
   ]
  },
  {
   "cell_type": "code",
   "execution_count": 14,
   "id": "10e0d909-4028-4626-b742-8137b815c103",
   "metadata": {},
   "outputs": [
    {
     "name": "stdout",
     "output_type": "stream",
     "text": [
      "The substring 'hello' occurs 3 times in the array.\n"
     ]
    }
   ],
   "source": [
    "# Q.56 --  Write a function that counts the occurrences of a specific substring within a NumPy array of strings.\n",
    "# arr = np.array(['hello', 'world', 'hello', 'numpy', 'hello'])\n",
    "# Ans -- \n",
    "import numpy as np\n",
    "\n",
    "def count_substring_occurrences(array, substring):\n",
    "    \"\"\"\n",
    "    Counts the occurrences of a specific substring within a NumPy array of strings.\n",
    "    \n",
    "    Parameters:\n",
    "    array (np.ndarray): The NumPy array containing strings.\n",
    "    substring (str): The substring to count within the array.\n",
    "    \n",
    "    Returns:\n",
    "    int: The total number of occurrences of the substring within the array.\n",
    "    \"\"\"\n",
    "    # Initialize the count\n",
    "    total_count = 0\n",
    "    \n",
    "    # Iterate through each element in the array\n",
    "    for string in array:\n",
    "        # Count occurrences of the substring in the current string\n",
    "        total_count += string.count(substring)\n",
    "    \n",
    "    return total_count\n",
    "\n",
    "# Example usage\n",
    "arr = np.array(['hello', 'world', 'hello', 'numpy', 'hello'])\n",
    "substring = 'hello'\n",
    "\n",
    "# Call the function\n",
    "occurrences = count_substring_occurrences(arr, substring)\n",
    "\n",
    "# Print the result\n",
    "print(f\"The substring '{substring}' occurs {occurrences} times in the array.\")\n"
   ]
  },
  {
   "cell_type": "code",
   "execution_count": 17,
   "id": "eb491b88-7b3d-42a2-8cee-5c08e86b0b98",
   "metadata": {},
   "outputs": [
    {
     "name": "stdout",
     "output_type": "stream",
     "text": [
      "Extracted uppercase characters: HWOAIGPT\n"
     ]
    }
   ],
   "source": [
    "# Q.57. Write a function that extracts uppercase characters from a NumPy array of strings.\n",
    "# arr = np.array(['Hello', 'World', 'OpenAI', 'GPT'])\n",
    "# arr = np.array(['Hello', 'World', 'OpenAI', 'GPT'])\n",
    "# Ans -- \n",
    "def extract_uppercase_characters(strings):\n",
    "    \"\"\"\n",
    "    Extracts all uppercase characters from a list of strings.\n",
    "    \n",
    "    Parameters:\n",
    "    strings (list of str): The list containing strings.\n",
    "    \n",
    "    Returns:\n",
    "    str: A string containing all uppercase characters extracted from the list.\n",
    "    \"\"\"\n",
    "    # Initialize an empty string to store uppercase characters\n",
    "    uppercase_chars = ''\n",
    "    \n",
    "    # Iterate through each element in the list\n",
    "    for string in strings:\n",
    "        # Extract uppercase characters and add them to the result\n",
    "        uppercase_chars += ''.join([char for char in string if char.isupper()])\n",
    "    \n",
    "    return uppercase_chars\n",
    "\n",
    "# Example usage\n",
    "strings = ['Hello', 'World', 'OpenAI', 'GPT']\n",
    "\n",
    "# Call the function\n",
    "result = extract_uppercase_characters(strings)\n",
    "\n",
    "# Print the result\n",
    "print(f\"Extracted uppercase characters: {result}\")\n"
   ]
  },
  {
   "cell_type": "code",
   "execution_count": 18,
   "id": "3ecdee20-0c60-4c00-8d69-38188c95b71c",
   "metadata": {},
   "outputs": [
    {
     "name": "stdout",
     "output_type": "stream",
     "text": [
      "Original array:\n",
      "['apple' 'banana' 'grape' 'pineapple']\n",
      "\n",
      "Modified array:\n",
      "['orange' 'banana' 'grape' 'pineorange']\n"
     ]
    }
   ],
   "source": [
    "# Q.58 -- Write a function that replaces occurrences of a substring in a NumPy array of strings with a new string.\n",
    "# arr = np.array(['apple', 'banana', 'grape', 'pineapple'])\n",
    "# Ans --\n",
    "import numpy as np\n",
    "\n",
    "def replace_substring(array, old_substring, new_string):\n",
    "    \"\"\"\n",
    "    Replaces occurrences of a substring in a NumPy array of strings with a new string.\n",
    "    \n",
    "    Parameters:\n",
    "    array (np.ndarray): The NumPy array containing strings.\n",
    "    old_substring (str): The substring to be replaced.\n",
    "    new_string (str): The new string to replace the old substring.\n",
    "    \n",
    "    Returns:\n",
    "    np.ndarray: The modified NumPy array with replacements.\n",
    "    \"\"\"\n",
    "    # Create a new array to store the modified strings\n",
    "    modified_array = np.array([string.replace(old_substring, new_string) for string in array])\n",
    "    \n",
    "    return modified_array\n",
    "\n",
    "# Example usage\n",
    "arr = np.array(['apple', 'banana', 'grape', 'pineapple'])\n",
    "old_substring = 'apple'\n",
    "new_string = 'orange'\n",
    "\n",
    "# Call the function\n",
    "result = replace_substring(arr, old_substring, new_string)\n",
    "\n",
    "# Print the result\n",
    "print(\"Original array:\")\n",
    "print(arr)\n",
    "print(\"\\nModified array:\")\n",
    "print(result)\n"
   ]
  },
  {
   "cell_type": "code",
   "execution_count": 22,
   "id": "1444b6c1-bdde-4557-9e1a-8b16793cca73",
   "metadata": {},
   "outputs": [
    {
     "name": "stdout",
     "output_type": "stream",
     "text": [
      "Concatenated array: \n",
      "['HelloOpen' 'WorldAI']\n"
     ]
    }
   ],
   "source": [
    "# Q.59 -- Write a function that concatenates strings in a NumPy array element-wise.\n",
    "# arr1 = np.array(['Hello', 'World'])\n",
    "# arr2 = np.array(['Open', 'AI'])\n",
    "# Ans -- \n",
    "import numpy as np\n",
    "\n",
    "def concatenate_strings_elementwise(array1, array2):\n",
    "    \"\"\"\n",
    "    Concatenates strings in two NumPy arrays element-wise.\n",
    "    \n",
    "    Parameters:\n",
    "    array1 (np.ndarray): The first NumPy array containing strings.\n",
    "    array2 (np.ndarray): The second NumPy array containing strings.\n",
    "    \n",
    "    Returns:\n",
    "    np.ndarray: A NumPy array with concatenated strings.\n",
    "    \"\"\"\n",
    "    # Check if both arrays have the same shape\n",
    "    if array1.shape != array2.shape:\n",
    "        raise ValueError(\"Input arrays must have the same shape.\")\n",
    "    \n",
    "    # Concatenate corresponding elements element-wise\n",
    "    concatenated_array = np.char.add(array1, array2)\n",
    "    \n",
    "    return concatenated_array\n",
    "\n",
    "# Example usage\n",
    "arr1 = np.array(['Hello' , 'World'])\n",
    "arr2 = np.array(['Open', 'AI'])\n",
    "\n",
    "# Call the function\n",
    "result = concatenate_strings_elementwise(arr1,  arr2)\n",
    "\n",
    "# Print the result\n",
    "print(\"Concatenated array: \")\n",
    "print(result)\n"
   ]
  },
  {
   "cell_type": "code",
   "execution_count": 23,
   "id": "5efb6ff2-5400-4bf0-ab25-11fcf0359def",
   "metadata": {},
   "outputs": [
    {
     "name": "stdout",
     "output_type": "stream",
     "text": [
      "The length of the longest string is: 9\n"
     ]
    }
   ],
   "source": [
    "# Q.60 -- Write a function that finds the length of the longest string in a NumPy array.\n",
    "# arr = np.array(['apple', 'banana', 'grape', 'pineapple'])\n",
    "# arr = np.array(['apple', 'banana', 'grape', 'pineapple'])\n",
    "# Ans --\n",
    "import numpy as np\n",
    "\n",
    "def length_of_longest_string(array):\n",
    "    \"\"\"\n",
    "    Finds the length of the longest string in a NumPy array.\n",
    "    \n",
    "    Parameters:\n",
    "    array (np.ndarray): The NumPy array containing strings.\n",
    "    \n",
    "    Returns:\n",
    "    int: The length of the longest string.\n",
    "    \"\"\"\n",
    "    # Get the lengths of all strings in the array\n",
    "    lengths = np.char.str_len(array)\n",
    "    \n",
    "    # Find the maximum length\n",
    "    max_length = np.max(lengths)\n",
    "    \n",
    "    return max_length\n",
    "\n",
    "# Example usage\n",
    "arr = np.array(['apple', 'banana', 'grape', 'pineapple'])\n",
    "\n",
    "# Call the function\n",
    "longest_length = length_of_longest_string(arr)\n",
    "\n",
    "# Print the result\n",
    "print(f\"The length of the longest string is: {longest_length}\")\n"
   ]
  },
  {
   "cell_type": "code",
   "execution_count": 24,
   "id": "f0a9e807-b9f4-4192-ac52-647c7f2c9c38",
   "metadata": {},
   "outputs": [
    {
     "name": "stdout",
     "output_type": "stream",
     "text": [
      "Dataset: [436 737 379 506  51 811 583 289 311 668 685 301 146 529 395  65 532 975\n",
      " 770 371 271 343 603 836 168 123 691 683 515 907 454 925 442 397 948 457\n",
      "  79 288  77 925 311 840 864 570  75 536 703 232 809 769 326 671 399 809\n",
      " 286 186 763 980 829 811 990  69 823 437 634 843 286  84 983 371 108 479\n",
      " 387  57 518 617  97 494 115 506 516 456  55  34  47 941 156 689 922 964\n",
      " 766 303  34  72 886  49  73 852 133 948]\n",
      "Mean: 492.35\n",
      "Median: 486.50\n",
      "Variance: 91294.39\n",
      "Standard Deviation: 302.15\n"
     ]
    }
   ],
   "source": [
    "# Q.61. Create a dataset of 100 random integers between 1 and 1000. Compute the mean, median, variance, and\n",
    "# standard deviation of the dataset using NumPy's functions.\n",
    "# Ans --\n",
    "import numpy as np\n",
    "\n",
    "# Generate a dataset of 100 random integers between 1 and 1000\n",
    "dataset = np.random.randint(1, 1001, size=100)\n",
    "\n",
    "# Compute the mean\n",
    "mean = np.mean(dataset)\n",
    "\n",
    "# Compute the median\n",
    "median = np.median(dataset)\n",
    "\n",
    "# Compute the variance\n",
    "variance = np.var(dataset)\n",
    "\n",
    "# Compute the standard deviation\n",
    "std_dev = np.std(dataset)\n",
    "\n",
    "# Print the results\n",
    "print(f\"Dataset: {dataset}\")\n",
    "print(f\"Mean: {mean:.2f}\")\n",
    "print(f\"Median: {median:.2f}\")\n",
    "print(f\"Variance: {variance:.2f}\")\n",
    "print(f\"Standard Deviation: {std_dev:.2f}\")\n"
   ]
  },
  {
   "cell_type": "code",
   "execution_count": 25,
   "id": "0c65adfe-79ac-4864-a7f9-e97230873c7c",
   "metadata": {},
   "outputs": [
    {
     "name": "stdout",
     "output_type": "stream",
     "text": [
      "Dataset: [40 92 79 53 58 83 61 64 27 75 21 13 76 27 23 60 28  3 62 49 10 91  5 51\n",
      " 77 24 92 85 81 15  1 90 35 16 90 19  9 39 15 36 52 74 64  8 39 43 51 19\n",
      " 17 30]\n",
      "25th Percentile: 19.50\n",
      "75th Percentile: 71.50\n"
     ]
    }
   ],
   "source": [
    "# Q.62 -- Generate an array of 50 random numbers between 1 and 100. Find the 25th and 75th percentiles of the dataset.\n",
    "# Ans -- \n",
    "import numpy as np\n",
    "\n",
    "# Generate an array of 50 random numbers between 1 and 100\n",
    "dataset = np.random.randint(1, 101, size=50)\n",
    "\n",
    "# Calculate the 25th percentile\n",
    "percentile_25 = np.percentile(dataset, 25)\n",
    "\n",
    "# Calculate the 75th percentile\n",
    "percentile_75 = np.percentile(dataset, 75)\n",
    "\n",
    "# Print the results\n",
    "print(f\"Dataset: {dataset}\")\n",
    "print(f\"25th Percentile: {percentile_25:.2f}\")\n",
    "print(f\"75th Percentile: {percentile_75:.2f}\")\n"
   ]
  },
  {
   "cell_type": "code",
   "execution_count": 26,
   "id": "0552ad25-910f-459a-b848-84bb5b73e2b0",
   "metadata": {},
   "outputs": [
    {
     "name": "stdout",
     "output_type": "stream",
     "text": [
      "Correlation Coefficient Matrix:\n",
      "[[1. 1.]\n",
      " [1. 1.]]\n",
      "Correlation Coefficient between array1 and array2: 1.00\n"
     ]
    }
   ],
   "source": [
    "# Q.63. Create two arrays representing two sets of variables. Compute the correlation coefficient between these arrays using NumPy's `corrcoef` function.\n",
    "# Ans --\n",
    "import numpy as np\n",
    "\n",
    "# Create two arrays representing two sets of variables\n",
    "array1 = np.array([10, 20, 30, 40, 50])\n",
    "array2 = np.array([15, 25, 35, 45, 55])\n",
    "\n",
    "# Compute the correlation coefficient matrix\n",
    "correlation_matrix = np.corrcoef(array1, array2)\n",
    "\n",
    "# Extract the correlation coefficient between the two arrays\n",
    "correlation_coefficient = correlation_matrix[0, 1]\n",
    "\n",
    "# Print the results\n",
    "print(\"Correlation Coefficient Matrix:\")\n",
    "print(correlation_matrix)\n",
    "print(f\"Correlation Coefficient between array1 and array2: {correlation_coefficient:.2f}\")\n"
   ]
  },
  {
   "cell_type": "code",
   "execution_count": 27,
   "id": "dfe17ccc-c859-460d-9228-a1a3e619f02b",
   "metadata": {},
   "outputs": [
    {
     "name": "stdout",
     "output_type": "stream",
     "text": [
      "Matrix 1:\n",
      "[[1 2 3]\n",
      " [4 5 6]]\n",
      "\n",
      "Matrix 2:\n",
      "[[ 7  8]\n",
      " [ 9 10]\n",
      " [11 12]]\n",
      "\n",
      "Result of Matrix Multiplication:\n",
      "[[ 58  64]\n",
      " [139 154]]\n"
     ]
    }
   ],
   "source": [
    "# Q.64. Create two matrices and perform matrix multiplication using NumPy's `dot` function.\n",
    "# Ans -- \n",
    "import numpy as np\n",
    "\n",
    "# Create two matrices\n",
    "matrix1 = np.array([[1, 2, 3], [4, 5, 6]])\n",
    "matrix2 = np.array([[7, 8], [9, 10], [11, 12]])\n",
    "\n",
    "# Perform matrix multiplication\n",
    "result = np.dot(matrix1, matrix2)\n",
    "\n",
    "# Print the result\n",
    "print(\"Matrix 1:\")\n",
    "print(matrix1)\n",
    "print(\"\\nMatrix 2:\")\n",
    "print(matrix2)\n",
    "print(\"\\nResult of Matrix Multiplication:\")\n",
    "print(result)\n"
   ]
  },
  {
   "cell_type": "code",
   "execution_count": 28,
   "id": "81e7d333-5ad1-4412-86b2-c007f1dfca1b",
   "metadata": {},
   "outputs": [
    {
     "name": "stdout",
     "output_type": "stream",
     "text": [
      "Array: [420 465 702 909 622 106 183 333 146 740 790 740 725 703 425 318 371  75\n",
      " 366 396 316 175 928 725  94 923 320 875  42 266 933 384 190 572 308 164\n",
      " 205 426 103 359 534  93 327 501 935 567 483 131 877 364]\n",
      "10th Percentile: 105.70\n",
      "50th Percentile (Median): 390.00\n",
      "90th Percentile: 880.20\n",
      "First Quartile (25th Percentile): 220.25\n",
      "Third Quartile (75th Percentile): 702.75\n"
     ]
    }
   ],
   "source": [
    "# Q.65 Create an array of 50 integers between 10 and 1000. Calculate the 10th, 50th (median), and 90th percentiles along with the first and third quartiles.\n",
    "# Ans -- \n",
    "import numpy as np\n",
    "\n",
    "# Create an array of 50 integers between 10 and 1000\n",
    "array = np.random.randint(10, 1001, size=50)\n",
    "\n",
    "# Calculate the 10th percentile\n",
    "percentile_10 = np.percentile(array, 10)\n",
    "\n",
    "# Calculate the 50th percentile (median)\n",
    "percentile_50 = np.percentile(array, 50)\n",
    "\n",
    "# Calculate the 90th percentile\n",
    "percentile_90 = np.percentile(array, 90)\n",
    "\n",
    "# Calculate the first quartile (25th percentile)\n",
    "first_quartile = np.percentile(array, 25)\n",
    "\n",
    "# Calculate the third quartile (75th percentile)\n",
    "third_quartile = np.percentile(array, 75)\n",
    "\n",
    "# Print the results\n",
    "print(f\"Array: {array}\")\n",
    "print(f\"10th Percentile: {percentile_10:.2f}\")\n",
    "print(f\"50th Percentile (Median): {percentile_50:.2f}\")\n",
    "print(f\"90th Percentile: {percentile_90:.2f}\")\n",
    "print(f\"First Quartile (25th Percentile): {first_quartile:.2f}\")\n",
    "print(f\"Third Quartile (75th Percentile): {third_quartile:.2f}\")\n"
   ]
  },
  {
   "cell_type": "code",
   "execution_count": 29,
   "id": "6459b4cc-d80d-42cb-9424-fdd4dd4808b9",
   "metadata": {},
   "outputs": [
    {
     "name": "stdout",
     "output_type": "stream",
     "text": [
      "Array: [ 10  20  30  40  50  60  70  80  90 100]\n",
      "Index of element 50: [4]\n"
     ]
    }
   ],
   "source": [
    "# Q.66. Create a NumPy array of integers and find the index of a specific element.\n",
    "# Ans -- \n",
    "import numpy as np\n",
    "\n",
    "# Create a NumPy array of integers\n",
    "array = np.array([10, 20, 30, 40, 50, 60, 70, 80, 90, 100])\n",
    "\n",
    "# Define the specific element to find\n",
    "specific_element = 50\n",
    "\n",
    "# Find the index of the specific element\n",
    "indices = np.where(array == specific_element)\n",
    "\n",
    "# Print the results\n",
    "print(f\"Array: {array}\")\n",
    "print(f\"Index of element {specific_element}: {indices[0]}\")\n"
   ]
  },
  {
   "cell_type": "code",
   "execution_count": 30,
   "id": "98045533-4345-41dc-9a8d-cf35399ece41",
   "metadata": {},
   "outputs": [
    {
     "name": "stdout",
     "output_type": "stream",
     "text": [
      "Original Array: [96 11 53 97 50 47 34 23 36 35 97 85 64 69 55 82 72 27 63 77]\n",
      "Sorted Array: [11 23 27 34 35 36 47 50 53 55 63 64 69 72 77 82 85 96 97 97]\n"
     ]
    }
   ],
   "source": [
    "# Q.67. Generate a random NumPy array and sort it in ascending order.\n",
    "# Ans -- \n",
    "import numpy as np\n",
    "\n",
    "# Generate a random NumPy array of integers\n",
    "array = np.random.randint(10, 100, size=20)  # Array of 20 random integers between 10 and 100\n",
    "\n",
    "# Sort the array in ascending order\n",
    "sorted_array = np.sort(array)\n",
    "\n",
    "# Print the results\n",
    "print(f\"Original Array: {array}\")\n",
    "print(f\"Sorted Array: {sorted_array}\")\n"
   ]
  },
  {
   "cell_type": "code",
   "execution_count": 31,
   "id": "e720add0-26a4-4db8-a791-02b93f415366",
   "metadata": {},
   "outputs": [
    {
     "name": "stdout",
     "output_type": "stream",
     "text": [
      "Original Array: [12 25  6 42  8 30]\n",
      "Filtered Array (elements > 20): [25 42 30]\n"
     ]
    }
   ],
   "source": [
    "# Q.68. Filter elements >20  in the given NumPy array.\n",
    "# arr = np.array([12, 25, 6, 42, 8, 30])\n",
    "# Ans -- \n",
    "import numpy as np\n",
    "\n",
    "# Define the NumPy array\n",
    "arr = np.array([12, 25, 6, 42, 8, 30])\n",
    "\n",
    "# Apply the condition to filter elements greater than 20\n",
    "filtered_arr = arr[arr > 20]\n",
    "\n",
    "# Print the results\n",
    "print(f\"Original Array: {arr}\")\n",
    "print(f\"Filtered Array (elements > 20): {filtered_arr}\")\n"
   ]
  },
  {
   "cell_type": "code",
   "execution_count": 32,
   "id": "04cd7b61-de0c-4ed8-9424-896855fc1818",
   "metadata": {},
   "outputs": [
    {
     "name": "stdout",
     "output_type": "stream",
     "text": [
      "Original Array: [ 1  5  8 12 15]\n",
      "Filtered Array (elements divisible by 3): [12 15]\n"
     ]
    }
   ],
   "source": [
    "# Q.69. Filter elements which are divisible by 3 from a given NumPy array.\n",
    "# arr = np.array([1, 5, 8, 12, 15])\n",
    "# Ans -- \n",
    "import numpy as np\n",
    "\n",
    "# Define the NumPy array\n",
    "arr = np.array([1, 5, 8, 12, 15])\n",
    "\n",
    "# Apply the condition to filter elements divisible by 3\n",
    "filtered_arr = arr[arr % 3 == 0]\n",
    "\n",
    "# Print the results\n",
    "print(f\"Original Array: {arr}\")\n",
    "print(f\"Filtered Array (elements divisible by 3): {filtered_arr}\")\n"
   ]
  },
  {
   "cell_type": "code",
   "execution_count": 33,
   "id": "292fec4a-93f6-4203-b14a-f353b2f51f72",
   "metadata": {},
   "outputs": [
    {
     "name": "stdout",
     "output_type": "stream",
     "text": [
      "Original Array: [10 20 30 40 50]\n",
      "Filtered Array (elements ≥ 20 and ≤ 40): [20 30 40]\n"
     ]
    }
   ],
   "source": [
    "# Q.70. Filter elements which are ≥ 20 and ≤ 40 from a given NumPy array.\n",
    "# arr = np.array([10, 20, 30, 40, 50])\n",
    "# ANS -- \n",
    "import numpy as np\n",
    "\n",
    "# Define the NumPy array\n",
    "arr = np.array([10, 20, 30, 40, 50])\n",
    "\n",
    "# Apply the condition to filter elements >= 20 and <= 40\n",
    "filtered_arr = arr[(arr >= 20) & (arr <= 40)]\n",
    "\n",
    "# Print the results\n",
    "print(f\"Original Array: {arr}\")\n",
    "print(f\"Filtered Array (elements ≥ 20 and ≤ 40): {filtered_arr}\")\n"
   ]
  },
  {
   "cell_type": "code",
   "execution_count": 34,
   "id": "f756259f-5d07-48bd-a839-5cfed22352f4",
   "metadata": {},
   "outputs": [
    {
     "name": "stdout",
     "output_type": "stream",
     "text": [
      "Array: [1 2 3]\n",
      "Byte Order: '='\n"
     ]
    }
   ],
   "source": [
    "# Q.71. For the given NumPy array, check its byte order using the `dtype` attribute byteorder.\n",
    "# arr = np.array([1, 2, 3])\n",
    "# Ans -- \n",
    "import numpy as np\n",
    "\n",
    "# Define the NumPy array\n",
    "arr = np.array([1, 2, 3])\n",
    "\n",
    "# Check the byte order using the dtype.byteorder attribute\n",
    "byte_order = arr.dtype.byteorder\n",
    "\n",
    "# Print the results\n",
    "print(f\"Array: {arr}\")\n",
    "print(f\"Byte Order: '{byte_order}'\")\n"
   ]
  },
  {
   "cell_type": "code",
   "execution_count": 35,
   "id": "42cb3838-e1a0-4329-820f-d0537c39e635",
   "metadata": {},
   "outputs": [
    {
     "name": "stdout",
     "output_type": "stream",
     "text": [
      "Original Array: [16777216 33554432 50331648]\n",
      "Array After Byte Swapping: [16777216 33554432 50331648]\n"
     ]
    }
   ],
   "source": [
    "# Q.72. For the given NumPy array, perform byte swapping in place using `byteswap()`.\n",
    "# arr = np.array([1, 2, 3], dtype=np.int32)\n",
    "# Ans -- \n",
    "import numpy as np\n",
    "\n",
    "# Define the NumPy array with dtype=np.int32\n",
    "arr = np.array([1, 2, 3], dtype=np.int32)\n",
    "\n",
    "# Perform byte swapping in place\n",
    "arr_byteswapped = arr.byteswap(inplace=True)\n",
    "\n",
    "# Print the results\n",
    "print(f\"Original Array: {arr}\")\n",
    "print(f\"Array After Byte Swapping: {arr_byteswapped}\")\n"
   ]
  },
  {
   "cell_type": "code",
   "execution_count": 36,
   "id": "3ac671ea-42e4-416b-90f0-5b1aebe0d366",
   "metadata": {},
   "outputs": [
    {
     "name": "stdout",
     "output_type": "stream",
     "text": [
      "Original array: [1 2 3]\n",
      "Original array dtype: int32\n",
      "Original array byte order: =\n",
      "Array with swapped byte order: [16777216 33554432 50331648]\n",
      "Swapped array dtype: >i4\n",
      "Swapped array byte order: >\n"
     ]
    }
   ],
   "source": [
    "#  Q.73. For the given NumPy array, swap its byte order without modifying the original array using `newbyteorder()`.\n",
    "# arr = np.array([1, 2, 3], dtype=np.int32)\n",
    "# Ans -- \n",
    "import numpy as np\n",
    "\n",
    "# Create the original array with dtype np.int32\n",
    "arr = np.array([1, 2, 3], dtype=np.int32)\n",
    "\n",
    "# Display the original array and its byte order\n",
    "print(\"Original array:\", arr)\n",
    "print(\"Original array dtype:\", arr.dtype)\n",
    "print(\"Original array byte order:\", arr.dtype.byteorder)\n",
    "\n",
    "# Swap the byte order using newbyteorder()\n",
    "swapped_arr = arr.newbyteorder()\n",
    "\n",
    "# Display the new array with swapped byte order\n",
    "print(\"Array with swapped byte order:\", swapped_arr)\n",
    "print(\"Swapped array dtype:\", swapped_arr.dtype)\n",
    "print(\"Swapped array byte order:\", swapped_arr.dtype.byteorder)\n"
   ]
  },
  {
   "cell_type": "code",
   "execution_count": 37,
   "id": "09557693-4502-4f81-b18e-f4a8125b5e81",
   "metadata": {},
   "outputs": [
    {
     "name": "stdout",
     "output_type": "stream",
     "text": [
      "Original array: [1 2 3]\n",
      "Original array dtype: int32\n",
      "Original array byte order: =\n",
      "Array with conditionally swapped byte order: [16777216 33554432 50331648]\n",
      "Swapped array dtype: >i4\n",
      "Swapped array byte order: >\n"
     ]
    }
   ],
   "source": [
    "# Q.74 -- 74. For the given NumPy array and swap its byte order conditionally based on system endianness using `newbyteorder()`.\n",
    "# arr = np.array([1, 2, 3], dtype=np.int32)\n",
    "# Ans -- \n",
    "import numpy as np\n",
    "\n",
    "# Create the original array with dtype np.int32\n",
    "arr = np.array([1, 2, 3], dtype=np.int32)\n",
    "\n",
    "# Display the original array and its byte order\n",
    "print(\"Original array:\", arr)\n",
    "print(\"Original array dtype:\", arr.dtype)\n",
    "print(\"Original array byte order:\", arr.dtype.byteorder)\n",
    "\n",
    "# Determine the system's endianness\n",
    "system_endianness = '<' if np.little_endian else '>'\n",
    "\n",
    "# Swap byte order conditionally based on the system's endianness\n",
    "if arr.dtype.byteorder != system_endianness:\n",
    "    swapped_arr = arr.newbyteorder()\n",
    "else:\n",
    "    swapped_arr = arr\n",
    "\n",
    "# Display the new array with swapped byte order (if applicable)\n",
    "print(\"Array with conditionally swapped byte order:\", swapped_arr)\n",
    "print(\"Swapped array dtype:\", swapped_arr.dtype)\n",
    "print(\"Swapped array byte order:\", swapped_arr.dtype.byteorder)\n"
   ]
  },
  {
   "cell_type": "code",
   "execution_count": 38,
   "id": "7ad73140-de2a-4f2f-be77-bc85434bb4cd",
   "metadata": {},
   "outputs": [
    {
     "name": "stdout",
     "output_type": "stream",
     "text": [
      "Original array: [1 2 3]\n",
      "Original array dtype: int32\n",
      "Original array byte order: =\n",
      "System endianness: <\n",
      "Is byte swapping necessary? False\n"
     ]
    }
   ],
   "source": [
    "# Q.75. For the given NumPy array, check if byte swapping is necessary for the current system using `dtype` attribute `byteorder`.\n",
    "#  arr = np.array([1, 2, 3], dtype=np.int32)\n",
    "# Ans -- \n",
    "import numpy as np\n",
    "\n",
    "# Create the original array with dtype np.int32\n",
    "arr = np.array([1, 2, 3], dtype=np.int32)\n",
    "\n",
    "# Display the original array and its byte order\n",
    "print(\"Original array:\", arr)\n",
    "print(\"Original array dtype:\", arr.dtype)\n",
    "print(\"Original array byte order:\", arr.dtype.byteorder)\n",
    "\n",
    "# Determine the system's endianness\n",
    "system_endianness = '<' if np.little_endian else '>'\n",
    "\n",
    "# Check if byte swapping is necessary\n",
    "if arr.dtype.byteorder == '=':\n",
    "    # Array has native byte order\n",
    "    swapping_necessary = False\n",
    "else:\n",
    "    # Array has non-native byte order\n",
    "    swapping_necessary = arr.dtype.byteorder != system_endianness\n",
    "\n",
    "# Output the result\n",
    "print(\"System endianness:\", system_endianness)\n",
    "print(\"Is byte swapping necessary?\", swapping_necessary)\n"
   ]
  },
  {
   "cell_type": "code",
   "execution_count": 39,
   "id": "0a10b723-d3fe-4cb9-8fea-119760c21f11",
   "metadata": {},
   "outputs": [
    {
     "name": "stdout",
     "output_type": "stream",
     "text": [
      "Original array (arr1): [ 1  2  3  4  5  6  7  8  9 10]\n",
      "Modified copy (copy_arr): [100   2   3   4   5   6   7   8   9  10]\n"
     ]
    }
   ],
   "source": [
    "# Q.76. Create a NumPy array `arr1` with values from 1 to 10. Create a copy of `arr1` named `copy_arr` and modify an element in `copy_arr`. Check if modifying `copy_arr` affects `arr1`.\n",
    "# Ans -- \n",
    "import numpy as np\n",
    "\n",
    "# Create a NumPy array `arr1` with values from 1 to 10\n",
    "arr1 = np.arange(1, 11)\n",
    "\n",
    "# Create a copy of `arr1` named `copy_arr`\n",
    "copy_arr = arr1.copy()\n",
    "\n",
    "# Modify an element in `copy_arr`\n",
    "copy_arr[0] = 100  # Change the first element to 100\n",
    "\n",
    "# Check if modifying `copy_arr` affects `arr1`\n",
    "print(\"Original array (arr1):\", arr1)\n",
    "print(\"Modified copy (copy_arr):\", copy_arr)\n"
   ]
  },
  {
   "cell_type": "code",
   "execution_count": 40,
   "id": "2801f6dc-3507-4479-b122-9f5a1925e9dc",
   "metadata": {},
   "outputs": [
    {
     "name": "stdout",
     "output_type": "stream",
     "text": [
      "Original matrix:\n",
      "[[100   5   5]\n",
      " [  6   9   2]\n",
      " [  1   8   5]]\n",
      "Modified slice (view_slice):\n",
      "[[100   5]\n",
      " [  6   9]]\n"
     ]
    }
   ],
   "source": [
    "# Q.77. Create a 2D NumPy array `matrix` of shape (3, 3) with random integers. Extract a slice `view_slice` from\n",
    "# the matrix. Modify an element in `view_slice` and observe if it changes the original `matrix`.\n",
    "# Ans - \n",
    "import numpy as np\n",
    "\n",
    "# Step 1: Create a 2D NumPy array `matrix` of shape (3, 3) with random integers\n",
    "matrix = np.random.randint(1, 10, size=(3, 3))\n",
    "\n",
    "# Step 2: Extract a slice `view_slice` from the matrix\n",
    "# For demonstration, we'll take a slice of the first two rows and columns\n",
    "view_slice = matrix[:2, :2]\n",
    "\n",
    "# Step 3: Modify an element in `view_slice`\n",
    "view_slice[0, 0] = 100\n",
    "\n",
    "# Step 4: Observe if the change affects the original `matrix`\n",
    "print(\"Original matrix:\")\n",
    "print(matrix)\n",
    "\n",
    "print(\"Modified slice (view_slice):\")\n",
    "print(view_slice)\n"
   ]
  },
  {
   "cell_type": "code",
   "execution_count": 41,
   "id": "6350f79c-221c-47a1-9375-670e441d8401",
   "metadata": {},
   "outputs": [
    {
     "name": "stdout",
     "output_type": "stream",
     "text": [
      "Original array_a:\n",
      "[[ 6  7  3]\n",
      " [ 9 10  6]\n",
      " [ 7  8  9]\n",
      " [10 11 12]]\n",
      "Modified view_b:\n",
      "[[ 6  7]\n",
      " [ 9 10]]\n"
     ]
    }
   ],
   "source": [
    "# Q.78. Create a NumPy array `array_a` of shape (4, 3) with sequential integers from 1 to 12. Extract a slice\n",
    "# `view_b` from `array_a` and broadcast the addition of 5 to view_b. Check if it alters the original `array_a`.\n",
    "# Ans -- \n",
    "import numpy as np\n",
    "\n",
    "# Step 1: Create a NumPy array `array_a` of shape (4, 3) with sequential integers from 1 to 12\n",
    "array_a = np.arange(1, 13).reshape((4, 3))\n",
    "\n",
    "# Step 2: Extract a slice `view_b` from `array_a`\n",
    "# For demonstration, we'll take a slice of the first two rows and columns\n",
    "view_b = array_a[:2, :2]\n",
    "\n",
    "# Step 3: Broadcast the addition of 5 to `view_b`\n",
    "view_b += 5\n",
    "\n",
    "# Step 4: Observe if the change affects the original `array_a`\n",
    "print(\"Original array_a:\")\n",
    "print(array_a)\n",
    "\n",
    "print(\"Modified view_b:\")\n",
    "print(view_b)\n"
   ]
  },
  {
   "cell_type": "code",
   "execution_count": 42,
   "id": "b39db2b1-82e1-4257-ab39-ef61a43a3a09",
   "metadata": {},
   "outputs": [
    {
     "name": "stdout",
     "output_type": "stream",
     "text": [
      "Original array (orig_array):\n",
      "[[100   2   3   4]\n",
      " [  5   6   7   8]]\n",
      "Modified reshaped view (reshaped_view):\n",
      "[[100   2]\n",
      " [  3   4]\n",
      " [  5   6]\n",
      " [  7   8]]\n"
     ]
    }
   ],
   "source": [
    "# 79. Create a NumPy array `orig_array` of shape (2, 4) with values from 1 to 8. Create a reshaped view\n",
    "# `reshaped_view` of shape (4, 2) from orig_array. Modify an element in `reshaped_view` and check if it\n",
    "# reflects changes in the original `orig_array`.\n",
    "# Ans -- \n",
    "import numpy as np\n",
    "\n",
    "# Step 1: Create a NumPy array `orig_array` of shape (2, 4) with values from 1 to 8\n",
    "orig_array = np.arange(1, 9).reshape((2, 4))\n",
    "\n",
    "# Step 2: Create a reshaped view `reshaped_view` of shape (4, 2) from `orig_array`\n",
    "reshaped_view = orig_array.reshape((4, 2))\n",
    "\n",
    "# Step 3: Modify an element in `reshaped_view`\n",
    "reshaped_view[0, 0] = 100\n",
    "\n",
    "# Step 4: Check if the change affects the original `orig_array`\n",
    "print(\"Original array (orig_array):\")\n",
    "print(orig_array)\n",
    "\n",
    "print(\"Modified reshaped view (reshaped_view):\")\n",
    "print(reshaped_view)\n"
   ]
  },
  {
   "cell_type": "code",
   "execution_count": 43,
   "id": "99e221ed-6364-4ba4-b410-f881f2eaf3a0",
   "metadata": {},
   "outputs": [
    {
     "name": "stdout",
     "output_type": "stream",
     "text": [
      "Original data:\n",
      "[[ 2  6  6 13]\n",
      " [ 1 10 14 11]\n",
      " [15 12 18  8]]\n",
      "Modified copy (data_copy):\n",
      "[100   6  13  10  14  11  15  12  18   8]\n"
     ]
    }
   ],
   "source": [
    "# Q.80. Create a NumPy array `data` of shape (3, 4) with random integers. Extract a copy `data_copy` of\n",
    "# elements greater than 5. Modify an element in `data_copy` and verify if it affects the original `data`.\n",
    "# Ans -- \n",
    "import numpy as np\n",
    "\n",
    "# Step 1: Create a NumPy array `data` of shape (3, 4) with random integers\n",
    "data = np.random.randint(1, 20, size=(3, 4))\n",
    "\n",
    "# Step 2: Extract a copy `data_copy` of elements greater than 5\n",
    "# Extract elements greater than 5 and create a copy\n",
    "data_copy = data[data > 5].copy()\n",
    "\n",
    "# Step 3: Modify an element in `data_copy`\n",
    "data_copy[0] = 100\n",
    "\n",
    "# Step 4: Verify if modifying `data_copy` affects the original `data`\n",
    "print(\"Original data:\")\n",
    "print(data)\n",
    "\n",
    "print(\"Modified copy (data_copy):\")\n",
    "print(data_copy)\n"
   ]
  },
  {
   "cell_type": "code",
   "execution_count": 44,
   "id": "1a72723a-11cd-48fb-9126-28a56d5de6fa",
   "metadata": {},
   "outputs": [
    {
     "name": "stdout",
     "output_type": "stream",
     "text": [
      "Matrix A:\n",
      "[[1 2 3]\n",
      " [4 5 6]\n",
      " [7 8 9]]\n",
      "Matrix B:\n",
      "[[9 8 7]\n",
      " [6 5 4]\n",
      " [3 2 1]]\n",
      "Addition of A and B:\n",
      "[[10 10 10]\n",
      " [10 10 10]\n",
      " [10 10 10]]\n",
      "Subtraction of A and B:\n",
      "[[-8 -6 -4]\n",
      " [-2  0  2]\n",
      " [ 4  6  8]]\n"
     ]
    }
   ],
   "source": [
    "# Q.81. Create two matrices A and B of identical shape containing integers and perform addition and subtraction\n",
    "# operations between them.\n",
    "# import numpy as np\n",
    "\n",
    "# Step 1: Create two matrices A and B of identical shape containing integers\n",
    "# Let's create two 3x3 matrices for this example\n",
    "A = np.array([[1, 2, 3], [4, 5, 6], [7, 8, 9]])\n",
    "B = np.array([[9, 8, 7], [6, 5, 4], [3, 2, 1]])\n",
    "\n",
    "# Step 2: Perform addition between A and B\n",
    "addition_result = A + B\n",
    "\n",
    "# Step 3: Perform subtraction between A and B\n",
    "subtraction_result = A - B\n",
    "\n",
    "# Print results\n",
    "print(\"Matrix A:\")\n",
    "print(A)\n",
    "\n",
    "print(\"Matrix B:\")\n",
    "print(B)\n",
    "\n",
    "print(\"Addition of A and B:\")\n",
    "print(addition_result)\n",
    "\n",
    "print(\"Subtraction of A and B:\")\n",
    "print(subtraction_result)\n"
   ]
  },
  {
   "cell_type": "code",
   "execution_count": 45,
   "id": "c53816e6-4b41-42eb-b7be-007c1d385d4d",
   "metadata": {},
   "outputs": [
    {
     "name": "stdout",
     "output_type": "stream",
     "text": [
      "Matrix C (3x2):\n",
      "[[1 2]\n",
      " [3 4]\n",
      " [5 6]]\n",
      "Matrix D (2x4):\n",
      "[[ 7  8  9 10]\n",
      " [11 12 13 14]]\n",
      "Matrix multiplication result (C * D):\n",
      "[[ 29  32  35  38]\n",
      " [ 65  72  79  86]\n",
      " [101 112 123 134]]\n"
     ]
    }
   ],
   "source": [
    "# Q.82. Generate two matrices `C` (3x2) and `D` (2x4) and perform matrix multiplication.\n",
    "# Ans -- \n",
    "import numpy as np\n",
    "\n",
    "# Step 1: Generate two matrices C (3x2) and D (2x4)\n",
    "C = np.array([[1, 2], [3, 4], [5, 6]])\n",
    "D = np.array([[7, 8, 9, 10], [11, 12, 13, 14]])\n",
    "\n",
    "# Step 2: Perform matrix multiplication\n",
    "# The result of multiplying C (3x2) with D (2x4) will be a matrix of shape (3x4)\n",
    "result = np.dot(C, D)\n",
    "\n",
    "# Print results\n",
    "print(\"Matrix C (3x2):\")\n",
    "print(C)\n",
    "\n",
    "print(\"Matrix D (2x4):\")\n",
    "print(D)\n",
    "\n",
    "print(\"Matrix multiplication result (C * D):\")\n",
    "print(result)\n"
   ]
  },
  {
   "cell_type": "code",
   "execution_count": 46,
   "id": "29651939-4c6a-4893-beb8-5b5e6eef3931",
   "metadata": {},
   "outputs": [
    {
     "name": "stdout",
     "output_type": "stream",
     "text": [
      "Matrix E:\n",
      "[[1 2 3]\n",
      " [4 5 6]\n",
      " [7 8 9]]\n",
      "Transpose of Matrix E:\n",
      "[[1 4 7]\n",
      " [2 5 8]\n",
      " [3 6 9]]\n"
     ]
    }
   ],
   "source": [
    "# Q.83. Create a matrix `E` and find its transpose.\n",
    "# Ans -- \n",
    "import numpy as np\n",
    "\n",
    "# Step 1: Create a matrix E\n",
    "E = np.array([[1, 2, 3],\n",
    "              [4, 5, 6],\n",
    "              [7, 8, 9]])\n",
    "\n",
    "# Step 2: Find the transpose of matrix E\n",
    "E_transpose = E.T\n",
    "\n",
    "# Alternatively, you can use the np.transpose function\n",
    "# E_transpose = np.transpose(E)\n",
    "\n",
    "# Print results\n",
    "print(\"Matrix E:\")\n",
    "print(E)\n",
    "\n",
    "print(\"Transpose of Matrix E:\")\n",
    "print(E_transpose)\n"
   ]
  },
  {
   "cell_type": "code",
   "execution_count": 47,
   "id": "0dba51d6-8245-43b0-8476-38333c5d5d54",
   "metadata": {},
   "outputs": [
    {
     "name": "stdout",
     "output_type": "stream",
     "text": [
      "Matrix F:\n",
      "[[1 2 3]\n",
      " [4 5 6]\n",
      " [7 8 9]]\n",
      "Determinant of Matrix F:\n",
      "0.0\n"
     ]
    }
   ],
   "source": [
    "# Q.84. Generate a square matrix `F` and compute its determinant.\n",
    "# Ans -- \n",
    "import numpy as np\n",
    "\n",
    "# Step 1: Generate a square matrix F\n",
    "# Let's create a 3x3 matrix for this example\n",
    "F = np.array([[1, 2, 3],\n",
    "              [4, 5, 6],\n",
    "              [7, 8, 9]])\n",
    "\n",
    "# Step 2: Compute the determinant of matrix F\n",
    "determinant = np.linalg.det(F)\n",
    "\n",
    "# Print results\n",
    "print(\"Matrix F:\")\n",
    "print(F)\n",
    "\n",
    "print(\"Determinant of Matrix F:\")\n",
    "print(determinant)\n"
   ]
  },
  {
   "cell_type": "code",
   "execution_count": 48,
   "id": "ffcfee68-bbc1-447e-9886-e2427d68afe6",
   "metadata": {},
   "outputs": [
    {
     "name": "stdout",
     "output_type": "stream",
     "text": [
      "Matrix G:\n",
      "[[1 2 3]\n",
      " [0 1 4]\n",
      " [5 6 0]]\n",
      "Inverse of Matrix G:\n",
      "[[-24.  18.   5.]\n",
      " [ 20. -15.  -4.]\n",
      " [ -5.   4.   1.]]\n"
     ]
    }
   ],
   "source": [
    "# Q.85. Create a square matrix `G` and find its inverse.\n",
    "#Ans -- \n",
    "import numpy as np\n",
    "\n",
    "# Step 1: Create a square matrix G\n",
    "# Let's create a 3x3 matrix for this example\n",
    "G = np.array([[1, 2, 3],\n",
    "              [0, 1, 4],\n",
    "              [5, 6, 0]])\n",
    "\n",
    "# Step 2: Compute the inverse of matrix G\n",
    "# Check if the matrix is invertible by calculating its determinant\n",
    "determinant = np.linalg.det(G)\n",
    "\n",
    "if determinant != 0:\n",
    "    G_inverse = np.linalg.inv(G)\n",
    "else:\n",
    "    G_inverse = \"Matrix is singular and cannot be inverted.\"\n",
    "\n",
    "# Print results\n",
    "print(\"Matrix G:\")\n",
    "print(G)\n",
    "\n",
    "print(\"Inverse of Matrix G:\")\n",
    "print(G_inverse)\n"
   ]
  },
  {
   "cell_type": "code",
   "execution_count": null,
   "id": "9c1785e8-0f54-40fa-8cdf-f31df727ef88",
   "metadata": {},
   "outputs": [],
   "source": []
  }
 ],
 "metadata": {
  "kernelspec": {
   "display_name": "Python 3 (ipykernel)",
   "language": "python",
   "name": "python3"
  },
  "language_info": {
   "codemirror_mode": {
    "name": "ipython",
    "version": 3
   },
   "file_extension": ".py",
   "mimetype": "text/x-python",
   "name": "python",
   "nbconvert_exporter": "python",
   "pygments_lexer": "ipython3",
   "version": "3.10.8"
  }
 },
 "nbformat": 4,
 "nbformat_minor": 5
}
